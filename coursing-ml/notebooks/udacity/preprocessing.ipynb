{
 "cells": [
  {
   "cell_type": "markdown",
   "metadata": {},
   "source": [
    "reload the context, catalog and startup_error variables"
   ]
  },
  {
   "cell_type": "code",
   "execution_count": 60,
   "metadata": {},
   "outputs": [
    {
     "name": "stdout",
     "output_type": "stream",
     "text": [
      "2021-01-02 21:42:25,607 - root - INFO - ** Kedro project coursing-ml\n",
      "2021-01-02 21:42:25,616 - root - INFO - Defined global variable `context` and `catalog`\n"
     ]
    }
   ],
   "source": [
    "%reload_kedro"
   ]
  },
  {
   "cell_type": "code",
   "execution_count": 61,
   "metadata": {},
   "outputs": [],
   "source": [
    "import pandas as pd\n",
    "from sklearn import preprocessing"
   ]
  },
  {
   "cell_type": "code",
   "execution_count": 62,
   "metadata": {},
   "outputs": [
    {
     "name": "stdout",
     "output_type": "stream",
     "text": [
      "2021-01-02 21:42:26,102 - kedro.io.data_catalog - INFO - Loading data from `scrapping_data` (CSVDataSet)...\n"
     ]
    },
    {
     "data": {
      "text/html": [
       "<div>\n",
       "<style scoped>\n",
       "    .dataframe tbody tr th:only-of-type {\n",
       "        vertical-align: middle;\n",
       "    }\n",
       "\n",
       "    .dataframe tbody tr th {\n",
       "        vertical-align: top;\n",
       "    }\n",
       "\n",
       "    .dataframe thead th {\n",
       "        text-align: right;\n",
       "    }\n",
       "</style>\n",
       "<table border=\"1\" class=\"dataframe\">\n",
       "  <thead>\n",
       "    <tr style=\"text-align: right;\">\n",
       "      <th></th>\n",
       "      <th>collaboration</th>\n",
       "      <th>description</th>\n",
       "      <th>difficulty</th>\n",
       "      <th>duration</th>\n",
       "      <th>free</th>\n",
       "      <th>id_course</th>\n",
       "      <th>n_reviews</th>\n",
       "      <th>rating</th>\n",
       "      <th>school</th>\n",
       "      <th>skills</th>\n",
       "      <th>title</th>\n",
       "      <th>url</th>\n",
       "    </tr>\n",
       "  </thead>\n",
       "  <tbody>\n",
       "    <tr>\n",
       "      <th>0</th>\n",
       "      <td>Insight</td>\n",
       "      <td>Learn to design data models, build data wareho...</td>\n",
       "      <td>intermediate</td>\n",
       "      <td>5 Months</td>\n",
       "      <td>[False]</td>\n",
       "      <td>nd027</td>\n",
       "      <td>918, reviews,918, reviews</td>\n",
       "      <td>width:91.08932461873638%,width:91.08932461873638%</td>\n",
       "      <td>School of Data Science</td>\n",
       "      <td>Data Modeling, Data Pipelines, Data Lakes, Spa...</td>\n",
       "      <td>Become a Data Engineer</td>\n",
       "      <td>https://www.udacity.com/course/data-engineer-n...</td>\n",
       "    </tr>\n",
       "    <tr>\n",
       "      <th>1</th>\n",
       "      <td>Google, Hootsuite, HubSpot, MailChimp, Moz, Fa...</td>\n",
       "      <td>Learn to create marketing content, use social ...</td>\n",
       "      <td>beginner</td>\n",
       "      <td>3 Months</td>\n",
       "      <td>[False]</td>\n",
       "      <td>nd018</td>\n",
       "      <td>1753, reviews,1753, reviews</td>\n",
       "      <td>width:93.96463205932687%,width:93.96463205932687%</td>\n",
       "      <td>School of Business</td>\n",
       "      <td>Digital Marketing, Social Media Marketing, Fac...</td>\n",
       "      <td>Become a Digital Marketer</td>\n",
       "      <td>https://www.udacity.com/course/digital-marketi...</td>\n",
       "    </tr>\n",
       "    <tr>\n",
       "      <th>2</th>\n",
       "      <td>NaN</td>\n",
       "      <td>You’ll learn how to create a digital user expe...</td>\n",
       "      <td>beginner</td>\n",
       "      <td>3 Months</td>\n",
       "      <td>[False]</td>\n",
       "      <td>nd578</td>\n",
       "      <td>619, reviews,619, reviews</td>\n",
       "      <td>width:94.24878836833604%,width:94.24878836833604%</td>\n",
       "      <td>School of Business</td>\n",
       "      <td>User Research, User Experience, Prototyping, I...</td>\n",
       "      <td>Become a UX Designer</td>\n",
       "      <td>https://www.udacity.com/course/ux-designer-nan...</td>\n",
       "    </tr>\n",
       "    <tr>\n",
       "      <th>3</th>\n",
       "      <td>AWS, Facebook Artificial Intelligence</td>\n",
       "      <td>Become an expert in neural networks, and learn...</td>\n",
       "      <td>intermediate</td>\n",
       "      <td>4 Months</td>\n",
       "      <td>[False]</td>\n",
       "      <td>nd101</td>\n",
       "      <td>2893, reviews,2893, reviews</td>\n",
       "      <td>width:93.2181126857933%,width:93.2181126857933%</td>\n",
       "      <td>School of Artificial Intelligence</td>\n",
       "      <td>Deep Learning, Neural Networks, Jupyter Notebo...</td>\n",
       "      <td>Deep Learning</td>\n",
       "      <td>https://www.udacity.com/course/deep-learning-n...</td>\n",
       "    </tr>\n",
       "    <tr>\n",
       "      <th>4</th>\n",
       "      <td>NaN</td>\n",
       "      <td>The goal of the Full Stack Web Developer Nanod...</td>\n",
       "      <td>intermediate</td>\n",
       "      <td>4 Months</td>\n",
       "      <td>[False]</td>\n",
       "      <td>nd0044</td>\n",
       "      <td>517, reviews,517, reviews</td>\n",
       "      <td>width:90.87040618955513%,width:90.87040618955513%</td>\n",
       "      <td>School of Programming &amp; Development</td>\n",
       "      <td>Python, JavaScript, PostgreSQL, Flask, Docker,...</td>\n",
       "      <td>Full Stack Web Developer</td>\n",
       "      <td>https://www.udacity.com/course/full-stack-web-...</td>\n",
       "    </tr>\n",
       "  </tbody>\n",
       "</table>\n",
       "</div>"
      ],
      "text/plain": [
       "                                       collaboration  \\\n",
       "0                                            Insight   \n",
       "1  Google, Hootsuite, HubSpot, MailChimp, Moz, Fa...   \n",
       "2                                                NaN   \n",
       "3              AWS, Facebook Artificial Intelligence   \n",
       "4                                                NaN   \n",
       "\n",
       "                                         description    difficulty  duration  \\\n",
       "0  Learn to design data models, build data wareho...  intermediate  5 Months   \n",
       "1  Learn to create marketing content, use social ...      beginner  3 Months   \n",
       "2  You’ll learn how to create a digital user expe...      beginner  3 Months   \n",
       "3  Become an expert in neural networks, and learn...  intermediate  4 Months   \n",
       "4  The goal of the Full Stack Web Developer Nanod...  intermediate  4 Months   \n",
       "\n",
       "      free id_course                    n_reviews  \\\n",
       "0  [False]     nd027    918, reviews,918, reviews   \n",
       "1  [False]     nd018  1753, reviews,1753, reviews   \n",
       "2  [False]     nd578    619, reviews,619, reviews   \n",
       "3  [False]     nd101  2893, reviews,2893, reviews   \n",
       "4  [False]    nd0044    517, reviews,517, reviews   \n",
       "\n",
       "                                              rating  \\\n",
       "0  width:91.08932461873638%,width:91.08932461873638%   \n",
       "1  width:93.96463205932687%,width:93.96463205932687%   \n",
       "2  width:94.24878836833604%,width:94.24878836833604%   \n",
       "3    width:93.2181126857933%,width:93.2181126857933%   \n",
       "4  width:90.87040618955513%,width:90.87040618955513%   \n",
       "\n",
       "                                school  \\\n",
       "0               School of Data Science   \n",
       "1                   School of Business   \n",
       "2                   School of Business   \n",
       "3    School of Artificial Intelligence   \n",
       "4  School of Programming & Development   \n",
       "\n",
       "                                              skills  \\\n",
       "0  Data Modeling, Data Pipelines, Data Lakes, Spa...   \n",
       "1  Digital Marketing, Social Media Marketing, Fac...   \n",
       "2  User Research, User Experience, Prototyping, I...   \n",
       "3  Deep Learning, Neural Networks, Jupyter Notebo...   \n",
       "4  Python, JavaScript, PostgreSQL, Flask, Docker,...   \n",
       "\n",
       "                       title  \\\n",
       "0     Become a Data Engineer   \n",
       "1  Become a Digital Marketer   \n",
       "2       Become a UX Designer   \n",
       "3              Deep Learning   \n",
       "4   Full Stack Web Developer   \n",
       "\n",
       "                                                 url  \n",
       "0  https://www.udacity.com/course/data-engineer-n...  \n",
       "1  https://www.udacity.com/course/digital-marketi...  \n",
       "2  https://www.udacity.com/course/ux-designer-nan...  \n",
       "3  https://www.udacity.com/course/deep-learning-n...  \n",
       "4  https://www.udacity.com/course/full-stack-web-...  "
      ]
     },
     "execution_count": 62,
     "metadata": {},
     "output_type": "execute_result"
    }
   ],
   "source": [
    "df = catalog.load(\"scrapping_data\")\n",
    "df.head()"
   ]
  },
  {
   "cell_type": "code",
   "execution_count": 63,
   "metadata": {},
   "outputs": [
    {
     "name": "stderr",
     "output_type": "stream",
     "text": [
      "c:\\users\\enrmeao\\pycharmprojects\\coursing\\venv\\lib\\site-packages\\ipykernel\\ipkernel.py:287: DeprecationWarning: `should_run_async` will not call `transform_cell` automatically in the future. Please pass the result to `transformed_cell` argument and any exception that happen during thetransform in `preprocessing_exc_tuple` in IPython 7.17 and above.\n",
      "  and should_run_async(code)\n"
     ]
    }
   ],
   "source": [
    "def extract_first_element(x):\n",
    "    x = str(x)\n",
    "    if len(str(x).split(',')) > 1:\n",
    "        return str(x).split(',')[0]\n",
    "    else:\n",
    "        return 0"
   ]
  },
  {
   "cell_type": "code",
   "execution_count": 64,
   "metadata": {},
   "outputs": [],
   "source": [
    "df['n_reviews'] = df['n_reviews'].apply(extract_first_element)\n",
    "df['free'] = df['free'].str.strip('[]')\n",
    "df['rating'] = df['rating'].apply(extract_first_element)\n",
    "df['rating'] = df['rating'].str.strip(' width:')\n",
    "df['rating'] = df['rating'].str.strip('%')\n",
    "df['rating'] = pd.to_numeric(df['rating']) "
   ]
  },
  {
   "cell_type": "code",
   "execution_count": 66,
   "metadata": {},
   "outputs": [
    {
     "name": "stderr",
     "output_type": "stream",
     "text": [
      "c:\\users\\enrmeao\\pycharmprojects\\coursing\\venv\\lib\\site-packages\\ipykernel\\ipkernel.py:287: DeprecationWarning: `should_run_async` will not call `transform_cell` automatically in the future. Please pass the result to `transformed_cell` argument and any exception that happen during thetransform in `preprocessing_exc_tuple` in IPython 7.17 and above.\n",
      "  and should_run_async(code)\n"
     ]
    }
   ],
   "source": [
    "# df['difficulty'] = df['difficulty'].apply(lambda _: str(_))\n",
    "# le = preprocessing.LabelEncoder()\n",
    "# df['difficulty'] = le.fit_transform(df['difficulty'])"
   ]
  },
  {
   "cell_type": "code",
   "execution_count": 67,
   "metadata": {},
   "outputs": [],
   "source": [
    "# list(le.classes_)"
   ]
  },
  {
   "cell_type": "code",
   "execution_count": 68,
   "metadata": {},
   "outputs": [
    {
     "data": {
      "text/plain": [
       "False    250\n",
       "Name: difficulty, dtype: int64"
      ]
     },
     "execution_count": 68,
     "metadata": {},
     "output_type": "execute_result"
    }
   ],
   "source": [
    "(df['difficulty'] == 'nan').value_counts()"
   ]
  },
  {
   "cell_type": "code",
   "execution_count": 69,
   "metadata": {},
   "outputs": [
    {
     "data": {
      "text/plain": [
       "intermediate    141\n",
       "beginner         61\n",
       "advanced         42\n",
       "Name: difficulty, dtype: int64"
      ]
     },
     "execution_count": 69,
     "metadata": {},
     "output_type": "execute_result"
    }
   ],
   "source": [
    "df.difficulty.value_counts()"
   ]
  },
  {
   "cell_type": "code",
   "execution_count": 103,
   "metadata": {},
   "outputs": [
    {
     "name": "stderr",
     "output_type": "stream",
     "text": [
      "c:\\users\\enrmeao\\pycharmprojects\\coursing\\venv\\lib\\site-packages\\ipykernel\\ipkernel.py:287: DeprecationWarning: `should_run_async` will not call `transform_cell` automatically in the future. Please pass the result to `transformed_cell` argument and any exception that happen during thetransform in `preprocessing_exc_tuple` in IPython 7.17 and above.\n",
      "  and should_run_async(code)\n"
     ]
    },
    {
     "data": {
      "text/plain": [
       "1    188\n",
       "0     62\n",
       "Name: free, dtype: int64"
      ]
     },
     "execution_count": 103,
     "metadata": {},
     "output_type": "execute_result"
    }
   ],
   "source": [
    "df.free.value_counts()"
   ]
  },
  {
   "cell_type": "code",
   "execution_count": 89,
   "metadata": {},
   "outputs": [
    {
     "data": {
      "text/plain": [
       "collaboration    111\n",
       "description       11\n",
       "difficulty         6\n",
       "duration           0\n",
       "free               0\n",
       "id_course          0\n",
       "n_reviews          0\n",
       "rating           200\n",
       "school             0\n",
       "skills            16\n",
       "title              0\n",
       "url                0\n",
       "time_range         0\n",
       "dtype: int64"
      ]
     },
     "execution_count": 89,
     "metadata": {},
     "output_type": "execute_result"
    }
   ],
   "source": [
    "df.isna().sum()"
   ]
  },
  {
   "cell_type": "code",
   "execution_count": 82,
   "metadata": {},
   "outputs": [],
   "source": [
    "df['duration'] = df['duration'].apply(lambda _: str(_))"
   ]
  },
  {
   "cell_type": "code",
   "execution_count": 78,
   "metadata": {},
   "outputs": [
    {
     "data": {
      "text/plain": [
       "\"\\ndef extract_duration_hours(x):\\n    if len(str(x).split(' ')) > 1:\\n        range_hours = str(x).split(' ')[1]\\n        if '-' in range_hours:\\n           range_hours = range_hours.split('-')[1]\\n        return range_hours\\n    else:\\n        return 0\\n    \""
      ]
     },
     "execution_count": 78,
     "metadata": {},
     "output_type": "execute_result"
    }
   ],
   "source": [
    "'''\n",
    "def extract_duration_hours(x):\n",
    "    if len(str(x).split(' ')) > 1:\n",
    "        range_hours = str(x).split(' ')[1]\n",
    "        if '-' in range_hours:\n",
    "           range_hours = range_hours.split('-')[1]\n",
    "        return range_hours\n",
    "    else:\n",
    "        return 0\n",
    "    '''"
   ]
  },
  {
   "cell_type": "code",
   "execution_count": 79,
   "metadata": {},
   "outputs": [],
   "source": [
    "df['n_reviews'].fillna(0, inplace=True)"
   ]
  },
  {
   "cell_type": "code",
   "execution_count": 83,
   "metadata": {},
   "outputs": [],
   "source": [
    "def extract_time_range(x):\n",
    "    x = x.rstrip()\n",
    "    if len(str(x).split(' ')) > 1:\n",
    "        time_range = str(x).split(' ')[-1]\n",
    "        return time_range\n",
    "    else:\n",
    "        return 'Weeks'"
   ]
  },
  {
   "cell_type": "code",
   "execution_count": 84,
   "metadata": {
    "pycharm": {
     "name": "#%%\n"
    }
   },
   "outputs": [],
   "source": [
    "\n",
    "df['time_range'] = df['duration'].apply(extract_time_range)"
   ]
  },
  {
   "cell_type": "code",
   "execution_count": 85,
   "metadata": {
    "pycharm": {
     "name": "#%%\n"
    }
   },
   "outputs": [],
   "source": [
    "df['time_range'] = df['time_range'].str.lower()"
   ]
  },
  {
   "cell_type": "code",
   "execution_count": 87,
   "metadata": {},
   "outputs": [
    {
     "name": "stderr",
     "output_type": "stream",
     "text": [
      "c:\\users\\enrmeao\\pycharmprojects\\coursing\\venv\\lib\\site-packages\\ipykernel\\ipkernel.py:287: DeprecationWarning: `should_run_async` will not call `transform_cell` automatically in the future. Please pass the result to `transformed_cell` argument and any exception that happen during thetransform in `preprocessing_exc_tuple` in IPython 7.17 and above.\n",
      "  and should_run_async(code)\n"
     ]
    },
    {
     "data": {
      "text/plain": [
       "months    102\n",
       "weeks      95\n",
       "week       20\n",
       "month      15\n",
       "days        9\n",
       "day         5\n",
       "hours       3\n",
       "hour        1\n",
       "Name: time_range, dtype: int64"
      ]
     },
     "execution_count": 87,
     "metadata": {},
     "output_type": "execute_result"
    }
   ],
   "source": [
    "df.time_range.value_counts()"
   ]
  },
  {
   "cell_type": "code",
   "execution_count": 100,
   "metadata": {
    "pycharm": {
     "name": "#%%\n"
    }
   },
   "outputs": [
    {
     "name": "stderr",
     "output_type": "stream",
     "text": [
      "c:\\users\\enrmeao\\pycharmprojects\\coursing\\venv\\lib\\site-packages\\ipykernel\\ipkernel.py:287: DeprecationWarning: `should_run_async` will not call `transform_cell` automatically in the future. Please pass the result to `transformed_cell` argument and any exception that happen during thetransform in `preprocessing_exc_tuple` in IPython 7.17 and above.\n",
      "  and should_run_async(code)\n"
     ]
    }
   ],
   "source": [
    "def extract_number_hours(x):\n",
    "    number = float(str(x).split(' ')[0])\n",
    "    time_range = str(x).split(' ')[-1].lower()\n",
    "    if (time_range == 'months') or (time_range == 'month'):\n",
    "        return 4 * number * 10 # 4 semanas/mes * N meses * 10 horas/semana\n",
    "    elif time_range == 'weeks' or time_range == 'week':\n",
    "        return number * 10 # N semanas * 10 horas/semana\n",
    "    elif time_range == 'day' or time_range == 'days':\n",
    "        return number * 5 # N semanas * 5 horas/dia\n",
    "    else:\n",
    "        return number"
   ]
  },
  {
   "cell_type": "code",
   "execution_count": 101,
   "metadata": {
    "pycharm": {
     "name": "#%%\n"
    }
   },
   "outputs": [],
   "source": [
    "df['duration_hours'] = df['duration'].apply(extract_number_hours)"
   ]
  },
  {
   "cell_type": "code",
   "execution_count": 95,
   "metadata": {
    "pycharm": {
     "name": "#%%\n"
    }
   },
   "outputs": [],
   "source": [
    "d = {'True': 1, 'False': 0}\n",
    "df['free'] = df['free'].map(d)"
   ]
  },
  {
   "cell_type": "code",
   "execution_count": null,
   "metadata": {
    "pycharm": {
     "name": "#%%\n"
    }
   },
   "outputs": [],
   "source": [
    "# mask1 = df[\"time_range\"] == 'months'"
   ]
  },
  {
   "cell_type": "code",
   "execution_count": null,
   "metadata": {
    "pycharm": {
     "name": "#%%\n"
    }
   },
   "outputs": [],
   "source": [
    "df['number_weeks_months'] = pd.to_numeric(df['number_weeks_months'])\n",
    "df['hours_per_week'] = pd.to_numeric(df['hours_per_week']) "
   ]
  },
  {
   "cell_type": "code",
   "execution_count": null,
   "metadata": {
    "pycharm": {
     "name": "#%%\n"
    }
   },
   "outputs": [],
   "source": [
    "values = df[\"number_weeks_months\"] * df[\"hours_per_week\"]\n",
    "df['duration_total_hours'] = values.where(df.time_range == 'weeks')"
   ]
  },
  {
   "cell_type": "code",
   "execution_count": null,
   "metadata": {
    "pycharm": {
     "name": "#%%\n"
    }
   },
   "outputs": [],
   "source": [
    "values = df[\"number_weeks_months\"] * df[\"hours_per_week\"] * 4\n",
    "df['duration_total_hours'] = values.where(df.time_range == 'months', other=df['duration_total_hours'])"
   ]
  },
  {
   "cell_type": "code",
   "execution_count": 102,
   "metadata": {
    "pycharm": {
     "name": "#%%\n"
    }
   },
   "outputs": [
    {
     "data": {
      "text/html": [
       "<div>\n",
       "<style scoped>\n",
       "    .dataframe tbody tr th:only-of-type {\n",
       "        vertical-align: middle;\n",
       "    }\n",
       "\n",
       "    .dataframe tbody tr th {\n",
       "        vertical-align: top;\n",
       "    }\n",
       "\n",
       "    .dataframe thead th {\n",
       "        text-align: right;\n",
       "    }\n",
       "</style>\n",
       "<table border=\"1\" class=\"dataframe\">\n",
       "  <thead>\n",
       "    <tr style=\"text-align: right;\">\n",
       "      <th></th>\n",
       "      <th>collaboration</th>\n",
       "      <th>description</th>\n",
       "      <th>difficulty</th>\n",
       "      <th>duration</th>\n",
       "      <th>free</th>\n",
       "      <th>id_course</th>\n",
       "      <th>n_reviews</th>\n",
       "      <th>rating</th>\n",
       "      <th>school</th>\n",
       "      <th>skills</th>\n",
       "      <th>title</th>\n",
       "      <th>url</th>\n",
       "      <th>time_range</th>\n",
       "      <th>duration_hours</th>\n",
       "    </tr>\n",
       "  </thead>\n",
       "  <tbody>\n",
       "    <tr>\n",
       "      <th>0</th>\n",
       "      <td>Insight</td>\n",
       "      <td>Learn to design data models, build data wareho...</td>\n",
       "      <td>intermediate</td>\n",
       "      <td>5 Months</td>\n",
       "      <td>0</td>\n",
       "      <td>nd027</td>\n",
       "      <td>918</td>\n",
       "      <td>91.089325</td>\n",
       "      <td>School of Data Science</td>\n",
       "      <td>Data Modeling, Data Pipelines, Data Lakes, Spa...</td>\n",
       "      <td>Become a Data Engineer</td>\n",
       "      <td>https://www.udacity.com/course/data-engineer-n...</td>\n",
       "      <td>months</td>\n",
       "      <td>200.0</td>\n",
       "    </tr>\n",
       "    <tr>\n",
       "      <th>1</th>\n",
       "      <td>Google, Hootsuite, HubSpot, MailChimp, Moz, Fa...</td>\n",
       "      <td>Learn to create marketing content, use social ...</td>\n",
       "      <td>beginner</td>\n",
       "      <td>3 Months</td>\n",
       "      <td>0</td>\n",
       "      <td>nd018</td>\n",
       "      <td>1753</td>\n",
       "      <td>93.964632</td>\n",
       "      <td>School of Business</td>\n",
       "      <td>Digital Marketing, Social Media Marketing, Fac...</td>\n",
       "      <td>Become a Digital Marketer</td>\n",
       "      <td>https://www.udacity.com/course/digital-marketi...</td>\n",
       "      <td>months</td>\n",
       "      <td>120.0</td>\n",
       "    </tr>\n",
       "    <tr>\n",
       "      <th>2</th>\n",
       "      <td>NaN</td>\n",
       "      <td>You’ll learn how to create a digital user expe...</td>\n",
       "      <td>beginner</td>\n",
       "      <td>3 Months</td>\n",
       "      <td>0</td>\n",
       "      <td>nd578</td>\n",
       "      <td>619</td>\n",
       "      <td>94.248788</td>\n",
       "      <td>School of Business</td>\n",
       "      <td>User Research, User Experience, Prototyping, I...</td>\n",
       "      <td>Become a UX Designer</td>\n",
       "      <td>https://www.udacity.com/course/ux-designer-nan...</td>\n",
       "      <td>months</td>\n",
       "      <td>120.0</td>\n",
       "    </tr>\n",
       "    <tr>\n",
       "      <th>3</th>\n",
       "      <td>AWS, Facebook Artificial Intelligence</td>\n",
       "      <td>Become an expert in neural networks, and learn...</td>\n",
       "      <td>intermediate</td>\n",
       "      <td>4 Months</td>\n",
       "      <td>0</td>\n",
       "      <td>nd101</td>\n",
       "      <td>2893</td>\n",
       "      <td>93.218113</td>\n",
       "      <td>School of Artificial Intelligence</td>\n",
       "      <td>Deep Learning, Neural Networks, Jupyter Notebo...</td>\n",
       "      <td>Deep Learning</td>\n",
       "      <td>https://www.udacity.com/course/deep-learning-n...</td>\n",
       "      <td>months</td>\n",
       "      <td>160.0</td>\n",
       "    </tr>\n",
       "    <tr>\n",
       "      <th>4</th>\n",
       "      <td>NaN</td>\n",
       "      <td>The goal of the Full Stack Web Developer Nanod...</td>\n",
       "      <td>intermediate</td>\n",
       "      <td>4 Months</td>\n",
       "      <td>0</td>\n",
       "      <td>nd0044</td>\n",
       "      <td>517</td>\n",
       "      <td>90.870406</td>\n",
       "      <td>School of Programming &amp; Development</td>\n",
       "      <td>Python, JavaScript, PostgreSQL, Flask, Docker,...</td>\n",
       "      <td>Full Stack Web Developer</td>\n",
       "      <td>https://www.udacity.com/course/full-stack-web-...</td>\n",
       "      <td>months</td>\n",
       "      <td>160.0</td>\n",
       "    </tr>\n",
       "    <tr>\n",
       "      <th>...</th>\n",
       "      <td>...</td>\n",
       "      <td>...</td>\n",
       "      <td>...</td>\n",
       "      <td>...</td>\n",
       "      <td>...</td>\n",
       "      <td>...</td>\n",
       "      <td>...</td>\n",
       "      <td>...</td>\n",
       "      <td>...</td>\n",
       "      <td>...</td>\n",
       "      <td>...</td>\n",
       "      <td>...</td>\n",
       "      <td>...</td>\n",
       "      <td>...</td>\n",
       "    </tr>\n",
       "    <tr>\n",
       "      <th>245</th>\n",
       "      <td>Kaggle, AWS</td>\n",
       "      <td>Learn foundational machine learning algorithms...</td>\n",
       "      <td>intermediate</td>\n",
       "      <td>3 Months</td>\n",
       "      <td>0</td>\n",
       "      <td>nd229</td>\n",
       "      <td>342</td>\n",
       "      <td>94.853801</td>\n",
       "      <td>School of Artificial Intelligence</td>\n",
       "      <td>Introduction to Machine Learning, Supervised L...</td>\n",
       "      <td>Intro to Machine Learning with PyTorch</td>\n",
       "      <td>https://www.udacity.com/course/intro-to-machin...</td>\n",
       "      <td>months</td>\n",
       "      <td>120.0</td>\n",
       "    </tr>\n",
       "    <tr>\n",
       "      <th>246</th>\n",
       "      <td>NaN</td>\n",
       "      <td>Build sustainable profit streams from products...</td>\n",
       "      <td>intermediate</td>\n",
       "      <td>1 Month</td>\n",
       "      <td>0</td>\n",
       "      <td>nd037-3</td>\n",
       "      <td>0</td>\n",
       "      <td>NaN</td>\n",
       "      <td>School of Business</td>\n",
       "      <td>Product Management, Monetization Models, Prici...</td>\n",
       "      <td>Monetization Strategy Course</td>\n",
       "      <td>https://www.udacity.com/course/monetization-st...</td>\n",
       "      <td>month</td>\n",
       "      <td>40.0</td>\n",
       "    </tr>\n",
       "    <tr>\n",
       "      <th>247</th>\n",
       "      <td>WorldQuant</td>\n",
       "      <td>Learn the basics of quantitative analysis, inc...</td>\n",
       "      <td>intermediate</td>\n",
       "      <td>6 Months</td>\n",
       "      <td>0</td>\n",
       "      <td>nd880</td>\n",
       "      <td>515</td>\n",
       "      <td>91.611650</td>\n",
       "      <td>School of Artificial Intelligence</td>\n",
       "      <td>Momentum Trading Strategy, Smart Beta, Alpha F...</td>\n",
       "      <td>Artificial Intelligence for Trading</td>\n",
       "      <td>https://www.udacity.com/course/ai-for-trading-...</td>\n",
       "      <td>months</td>\n",
       "      <td>240.0</td>\n",
       "    </tr>\n",
       "    <tr>\n",
       "      <th>248</th>\n",
       "      <td>NaN</td>\n",
       "      <td>Learn the essential foundations of AI: the pro...</td>\n",
       "      <td>beginner</td>\n",
       "      <td>3 Months</td>\n",
       "      <td>0</td>\n",
       "      <td>nd089</td>\n",
       "      <td>839</td>\n",
       "      <td>92.467223</td>\n",
       "      <td>School of Artificial Intelligence</td>\n",
       "      <td>Python, NumPy, Pandas, Matplotlib, PyTorch</td>\n",
       "      <td>AI Programming with Python</td>\n",
       "      <td>https://www.udacity.com/course/ai-programming-...</td>\n",
       "      <td>months</td>\n",
       "      <td>120.0</td>\n",
       "    </tr>\n",
       "    <tr>\n",
       "      <th>249</th>\n",
       "      <td>NaN</td>\n",
       "      <td>Perform analysis on data stored in relational ...</td>\n",
       "      <td>beginner</td>\n",
       "      <td>2 Months</td>\n",
       "      <td>0</td>\n",
       "      <td>nd072</td>\n",
       "      <td>90</td>\n",
       "      <td>89.333333</td>\n",
       "      <td>School of Data Science</td>\n",
       "      <td>SQL, PostgreSQL, JOINs, Subqueries, Window Fun...</td>\n",
       "      <td>Learn SQL</td>\n",
       "      <td>https://www.udacity.com/course/learn-sql--nd072</td>\n",
       "      <td>months</td>\n",
       "      <td>80.0</td>\n",
       "    </tr>\n",
       "  </tbody>\n",
       "</table>\n",
       "<p>250 rows × 14 columns</p>\n",
       "</div>"
      ],
      "text/plain": [
       "                                         collaboration  \\\n",
       "0                                              Insight   \n",
       "1    Google, Hootsuite, HubSpot, MailChimp, Moz, Fa...   \n",
       "2                                                  NaN   \n",
       "3                AWS, Facebook Artificial Intelligence   \n",
       "4                                                  NaN   \n",
       "..                                                 ...   \n",
       "245                                        Kaggle, AWS   \n",
       "246                                                NaN   \n",
       "247                                         WorldQuant   \n",
       "248                                                NaN   \n",
       "249                                                NaN   \n",
       "\n",
       "                                           description    difficulty  \\\n",
       "0    Learn to design data models, build data wareho...  intermediate   \n",
       "1    Learn to create marketing content, use social ...      beginner   \n",
       "2    You’ll learn how to create a digital user expe...      beginner   \n",
       "3    Become an expert in neural networks, and learn...  intermediate   \n",
       "4    The goal of the Full Stack Web Developer Nanod...  intermediate   \n",
       "..                                                 ...           ...   \n",
       "245  Learn foundational machine learning algorithms...  intermediate   \n",
       "246  Build sustainable profit streams from products...  intermediate   \n",
       "247  Learn the basics of quantitative analysis, inc...  intermediate   \n",
       "248  Learn the essential foundations of AI: the pro...      beginner   \n",
       "249  Perform analysis on data stored in relational ...      beginner   \n",
       "\n",
       "     duration  free id_course n_reviews     rating  \\\n",
       "0    5 Months     0     nd027       918  91.089325   \n",
       "1    3 Months     0     nd018      1753  93.964632   \n",
       "2    3 Months     0     nd578       619  94.248788   \n",
       "3    4 Months     0     nd101      2893  93.218113   \n",
       "4    4 Months     0    nd0044       517  90.870406   \n",
       "..        ...   ...       ...       ...        ...   \n",
       "245  3 Months     0     nd229       342  94.853801   \n",
       "246   1 Month     0   nd037-3         0        NaN   \n",
       "247  6 Months     0     nd880       515  91.611650   \n",
       "248  3 Months     0     nd089       839  92.467223   \n",
       "249  2 Months     0     nd072        90  89.333333   \n",
       "\n",
       "                                  school  \\\n",
       "0                 School of Data Science   \n",
       "1                     School of Business   \n",
       "2                     School of Business   \n",
       "3      School of Artificial Intelligence   \n",
       "4    School of Programming & Development   \n",
       "..                                   ...   \n",
       "245    School of Artificial Intelligence   \n",
       "246                   School of Business   \n",
       "247    School of Artificial Intelligence   \n",
       "248    School of Artificial Intelligence   \n",
       "249               School of Data Science   \n",
       "\n",
       "                                                skills  \\\n",
       "0    Data Modeling, Data Pipelines, Data Lakes, Spa...   \n",
       "1    Digital Marketing, Social Media Marketing, Fac...   \n",
       "2    User Research, User Experience, Prototyping, I...   \n",
       "3    Deep Learning, Neural Networks, Jupyter Notebo...   \n",
       "4    Python, JavaScript, PostgreSQL, Flask, Docker,...   \n",
       "..                                                 ...   \n",
       "245  Introduction to Machine Learning, Supervised L...   \n",
       "246  Product Management, Monetization Models, Prici...   \n",
       "247  Momentum Trading Strategy, Smart Beta, Alpha F...   \n",
       "248         Python, NumPy, Pandas, Matplotlib, PyTorch   \n",
       "249  SQL, PostgreSQL, JOINs, Subqueries, Window Fun...   \n",
       "\n",
       "                                      title  \\\n",
       "0                    Become a Data Engineer   \n",
       "1                 Become a Digital Marketer   \n",
       "2                      Become a UX Designer   \n",
       "3                             Deep Learning   \n",
       "4                  Full Stack Web Developer   \n",
       "..                                      ...   \n",
       "245  Intro to Machine Learning with PyTorch   \n",
       "246            Monetization Strategy Course   \n",
       "247     Artificial Intelligence for Trading   \n",
       "248              AI Programming with Python   \n",
       "249                               Learn SQL   \n",
       "\n",
       "                                                   url time_range  \\\n",
       "0    https://www.udacity.com/course/data-engineer-n...     months   \n",
       "1    https://www.udacity.com/course/digital-marketi...     months   \n",
       "2    https://www.udacity.com/course/ux-designer-nan...     months   \n",
       "3    https://www.udacity.com/course/deep-learning-n...     months   \n",
       "4    https://www.udacity.com/course/full-stack-web-...     months   \n",
       "..                                                 ...        ...   \n",
       "245  https://www.udacity.com/course/intro-to-machin...     months   \n",
       "246  https://www.udacity.com/course/monetization-st...      month   \n",
       "247  https://www.udacity.com/course/ai-for-trading-...     months   \n",
       "248  https://www.udacity.com/course/ai-programming-...     months   \n",
       "249    https://www.udacity.com/course/learn-sql--nd072     months   \n",
       "\n",
       "     duration_hours  \n",
       "0             200.0  \n",
       "1             120.0  \n",
       "2             120.0  \n",
       "3             160.0  \n",
       "4             160.0  \n",
       "..              ...  \n",
       "245           120.0  \n",
       "246            40.0  \n",
       "247           240.0  \n",
       "248           120.0  \n",
       "249            80.0  \n",
       "\n",
       "[250 rows x 14 columns]"
      ]
     },
     "execution_count": 102,
     "metadata": {},
     "output_type": "execute_result"
    }
   ],
   "source": [
    "df"
   ]
  },
  {
   "cell_type": "code",
   "execution_count": null,
   "metadata": {
    "pycharm": {
     "name": "#%%\n"
    }
   },
   "outputs": [],
   "source": [
    "df.dtypes"
   ]
  },
  {
   "cell_type": "code",
   "execution_count": null,
   "metadata": {},
   "outputs": [],
   "source": [
    "dff = catalog.load(\"preprocessed_udacity\")\n",
    "dff.head()"
   ]
  }
 ],
 "metadata": {
  "kernelspec": {
   "display_name": "coursingml",
   "language": "python",
   "name": "python3"
  },
  "language_info": {
   "codemirror_mode": {
    "name": "ipython",
    "version": 3
   },
   "file_extension": ".py",
   "mimetype": "text/x-python",
   "name": "python",
   "nbconvert_exporter": "python",
   "pygments_lexer": "ipython3",
   "version": "3.7.8"
  }
 },
 "nbformat": 4,
 "nbformat_minor": 1
}
