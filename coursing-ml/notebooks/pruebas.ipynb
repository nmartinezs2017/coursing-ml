{
 "cells": [
  {
   "cell_type": "code",
   "execution_count": 1,
   "metadata": {},
   "outputs": [
    {
     "name": "stderr",
     "output_type": "stream",
     "text": [
      "c:\\users\\enrmeao\\pycharmprojects\\coursing\\venv\\lib\\site-packages\\ipykernel\\ipkernel.py:287: DeprecationWarning: `should_run_async` will not call `transform_cell` automatically in the future. Please pass the result to `transformed_cell` argument and any exception that happen during thetransform in `preprocessing_exc_tuple` in IPython 7.17 and above.\n",
      "  and should_run_async(code)\n"
     ]
    },
    {
     "name": "stdout",
     "output_type": "stream",
     "text": [
      "2021-02-11 15:16:13,082 - root - INFO - ** Kedro project coursing-ml\n",
      "2021-02-11 15:16:13,084 - root - INFO - Defined global variable `context` and `catalog`\n"
     ]
    }
   ],
   "source": [
    "%reload_kedro"
   ]
  },
  {
   "cell_type": "code",
   "execution_count": 3,
   "metadata": {},
   "outputs": [
    {
     "name": "stdout",
     "output_type": "stream",
     "text": [
      "2021-02-11 15:21:22,684 - kedro.io.data_catalog - INFO - Loading data from `corpus_embeddings` (PickleDataSet)...\n"
     ]
    },
    {
     "data": {
      "text/plain": [
       "tensor([[-4.1152e-01, -9.6174e-04, -4.1992e-01,  ..., -6.9227e-01,\n",
       "          2.4766e-01, -6.5418e-02],\n",
       "        [-8.8730e-01,  3.5366e-01, -1.8614e-01,  ..., -8.4088e-02,\n",
       "          5.9514e-01,  8.6344e-01],\n",
       "        [-6.2389e-01,  8.6078e-01, -4.4358e-02,  ..., -6.3423e-01,\n",
       "          4.1411e-01,  3.1607e-02],\n",
       "        ...,\n",
       "        [-2.6625e-02, -5.7537e-02, -3.5832e-01,  ...,  6.9599e-01,\n",
       "          4.0551e-01,  1.3569e+00],\n",
       "        [-7.0719e-01,  7.4323e-01, -3.9782e-01,  ..., -1.1291e-01,\n",
       "         -1.7266e-01,  6.9582e-01],\n",
       "        [-4.1524e-01,  3.1523e-01, -8.6615e-01,  ..., -3.5032e-01,\n",
       "          5.9689e-01,  1.1567e-01]])"
      ]
     },
     "execution_count": 3,
     "metadata": {},
     "output_type": "execute_result"
    }
   ],
   "source": [
    "embeddings = catalog.load(\"corpus_embeddings\")\n",
    "embeddings"
   ]
  }
 ],
 "metadata": {
  "kernelspec": {
   "display_name": "coursingml",
   "language": "python",
   "name": "python3"
  },
  "language_info": {
   "codemirror_mode": {
    "name": "ipython",
    "version": 3
   },
   "file_extension": ".py",
   "mimetype": "text/x-python",
   "name": "python",
   "nbconvert_exporter": "python",
   "pygments_lexer": "ipython3",
   "version": "3.7.8"
  }
 },
 "nbformat": 4,
 "nbformat_minor": 4
}
