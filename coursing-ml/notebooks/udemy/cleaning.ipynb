{
 "cells": [
  {
   "cell_type": "code",
   "execution_count": 1,
   "metadata": {},
   "outputs": [
    {
     "name": "stderr",
     "output_type": "stream",
     "text": [
      "c:\\users\\enrmeao\\pycharmprojects\\coursing\\venv\\lib\\site-packages\\ipykernel\\ipkernel.py:287: DeprecationWarning: `should_run_async` will not call `transform_cell` automatically in the future. Please pass the result to `transformed_cell` argument and any exception that happen during thetransform in `preprocessing_exc_tuple` in IPython 7.17 and above.\n",
      "  and should_run_async(code)\n"
     ]
    },
    {
     "name": "stdout",
     "output_type": "stream",
     "text": [
      "2021-06-21 18:18:10,507 - root - INFO - ** Kedro project coursing-ml\n",
      "2021-06-21 18:18:10,509 - root - INFO - Defined global variable `context` and `catalog`\n"
     ]
    }
   ],
   "source": [
    "%reload_kedro"
   ]
  },
  {
   "cell_type": "code",
   "execution_count": 2,
   "metadata": {},
   "outputs": [],
   "source": [
    "import pandas as pd\n",
    "from sklearn import preprocessing"
   ]
  },
  {
   "cell_type": "code",
   "execution_count": 3,
   "metadata": {},
   "outputs": [
    {
     "name": "stdout",
     "output_type": "stream",
     "text": [
      "2021-06-21 18:18:10,578 - kedro.io.data_catalog - INFO - Loading data from `preprocessed_udemy` (CSVDataSet)...\n"
     ]
    },
    {
     "data": {
      "text/html": [
       "<div>\n",
       "<style scoped>\n",
       "    .dataframe tbody tr th:only-of-type {\n",
       "        vertical-align: middle;\n",
       "    }\n",
       "\n",
       "    .dataframe tbody tr th {\n",
       "        vertical-align: top;\n",
       "    }\n",
       "\n",
       "    .dataframe thead th {\n",
       "        text-align: right;\n",
       "    }\n",
       "</style>\n",
       "<table border=\"1\" class=\"dataframe\">\n",
       "  <thead>\n",
       "    <tr style=\"text-align: right;\">\n",
       "      <th></th>\n",
       "      <th>category</th>\n",
       "      <th>cost</th>\n",
       "      <th>description</th>\n",
       "      <th>description_extend</th>\n",
       "      <th>free</th>\n",
       "      <th>instructor</th>\n",
       "      <th>language</th>\n",
       "      <th>n_students</th>\n",
       "      <th>rating</th>\n",
       "      <th>sessions</th>\n",
       "      <th>subcategory</th>\n",
       "      <th>title</th>\n",
       "      <th>url</th>\n",
       "      <th>hours</th>\n",
       "    </tr>\n",
       "  </thead>\n",
       "  <tbody>\n",
       "    <tr>\n",
       "      <th>0</th>\n",
       "      <td>Marketing</td>\n",
       "      <td>109.99</td>\n",
       "      <td>Full WordPress With All premium Theme And Plug...</td>\n",
       "      <td>Learn Full Digital Marketing Training Start To...</td>\n",
       "      <td>0</td>\n",
       "      <td>Harvinder Kumar</td>\n",
       "      <td>English</td>\n",
       "      <td>10.0</td>\n",
       "      <td>5.0</td>\n",
       "      <td>3 sections, • ,19 lectures, •</td>\n",
       "      <td>Digital Marketing</td>\n",
       "      <td>Learn Full Digital Marketing Training Start To...</td>\n",
       "      <td>https://www.udemy.com/course/learn-full-digita...</td>\n",
       "      <td>2.0</td>\n",
       "    </tr>\n",
       "    <tr>\n",
       "      <th>1</th>\n",
       "      <td>Marketing</td>\n",
       "      <td>49.99</td>\n",
       "      <td>Implement chatbot on your website and start co...</td>\n",
       "      <td>In this course I will be covering how you can ...</td>\n",
       "      <td>0</td>\n",
       "      <td>Sayed N</td>\n",
       "      <td>English</td>\n",
       "      <td>160.0</td>\n",
       "      <td>5.0</td>\n",
       "      <td>6 sections, • ,11 lectures, •</td>\n",
       "      <td>Digital Marketing</td>\n",
       "      <td>Chatbot for Websites using Facebook Messenger,...</td>\n",
       "      <td>https://www.udemy.com/course/live-chat-for-web...</td>\n",
       "      <td>1.0</td>\n",
       "    </tr>\n",
       "    <tr>\n",
       "      <th>2</th>\n",
       "      <td>Marketing</td>\n",
       "      <td>24.99</td>\n",
       "      <td>BRAND NEW ! 'Transform' your Social media Prof...</td>\n",
       "      <td>You are provided with every template tool and ...</td>\n",
       "      <td>0</td>\n",
       "      <td>blake nuba</td>\n",
       "      <td>English</td>\n",
       "      <td>7.0</td>\n",
       "      <td>5.0</td>\n",
       "      <td>1 section, • ,30 lectures, •</td>\n",
       "      <td>Digital Marketing</td>\n",
       "      <td>Clickfunnels &amp; Sales Funnels mastery in 2021 +...</td>\n",
       "      <td>https://www.udemy.com/course/networkleadkings/</td>\n",
       "      <td>2.0</td>\n",
       "    </tr>\n",
       "    <tr>\n",
       "      <th>3</th>\n",
       "      <td>Marketing</td>\n",
       "      <td>109.99</td>\n",
       "      <td>Grow an Email List of Warm and Qualified Leads...</td>\n",
       "      <td>Email Marketing is still surprisingly underrat...</td>\n",
       "      <td>0</td>\n",
       "      <td>Ilya Lobanov</td>\n",
       "      <td>English</td>\n",
       "      <td>16.0</td>\n",
       "      <td>5.0</td>\n",
       "      <td>5 sections, • ,11 lectures, •</td>\n",
       "      <td>Digital Marketing</td>\n",
       "      <td>Email Marketing: List Building and Lead Magnet...</td>\n",
       "      <td>https://www.udemy.com/course/email-list-buildi...</td>\n",
       "      <td>1.0</td>\n",
       "    </tr>\n",
       "    <tr>\n",
       "      <th>4</th>\n",
       "      <td>Marketing</td>\n",
       "      <td>49.99</td>\n",
       "      <td>Identify your target market create actionable ...</td>\n",
       "      <td>This course cuts through the digital advertisi...</td>\n",
       "      <td>0</td>\n",
       "      <td>Brian Barna</td>\n",
       "      <td>English</td>\n",
       "      <td>12.0</td>\n",
       "      <td>5.0</td>\n",
       "      <td>5 sections, • ,18 lectures, •</td>\n",
       "      <td>Digital Marketing</td>\n",
       "      <td>Learn Digital Marketing: Strategy, Tactics, Pl...</td>\n",
       "      <td>https://www.udemy.com/course/learn-digital-mar...</td>\n",
       "      <td>3.0</td>\n",
       "    </tr>\n",
       "  </tbody>\n",
       "</table>\n",
       "</div>"
      ],
      "text/plain": [
       "    category    cost                                        description  \\\n",
       "0  Marketing  109.99  Full WordPress With All premium Theme And Plug...   \n",
       "1  Marketing   49.99  Implement chatbot on your website and start co...   \n",
       "2  Marketing   24.99  BRAND NEW ! 'Transform' your Social media Prof...   \n",
       "3  Marketing  109.99  Grow an Email List of Warm and Qualified Leads...   \n",
       "4  Marketing   49.99  Identify your target market create actionable ...   \n",
       "\n",
       "                                  description_extend  free       instructor  \\\n",
       "0  Learn Full Digital Marketing Training Start To...     0  Harvinder Kumar   \n",
       "1  In this course I will be covering how you can ...     0          Sayed N   \n",
       "2  You are provided with every template tool and ...     0       blake nuba   \n",
       "3  Email Marketing is still surprisingly underrat...     0     Ilya Lobanov   \n",
       "4  This course cuts through the digital advertisi...     0      Brian Barna   \n",
       "\n",
       "  language  n_students  rating                        sessions  \\\n",
       "0  English        10.0     5.0  3 sections, • ,19 lectures, •    \n",
       "1  English       160.0     5.0  6 sections, • ,11 lectures, •    \n",
       "2  English         7.0     5.0   1 section, • ,30 lectures, •    \n",
       "3  English        16.0     5.0  5 sections, • ,11 lectures, •    \n",
       "4  English        12.0     5.0  5 sections, • ,18 lectures, •    \n",
       "\n",
       "         subcategory                                              title  \\\n",
       "0  Digital Marketing  Learn Full Digital Marketing Training Start To...   \n",
       "1  Digital Marketing  Chatbot for Websites using Facebook Messenger,...   \n",
       "2  Digital Marketing  Clickfunnels & Sales Funnels mastery in 2021 +...   \n",
       "3  Digital Marketing  Email Marketing: List Building and Lead Magnet...   \n",
       "4  Digital Marketing  Learn Digital Marketing: Strategy, Tactics, Pl...   \n",
       "\n",
       "                                                 url  hours  \n",
       "0  https://www.udemy.com/course/learn-full-digita...    2.0  \n",
       "1  https://www.udemy.com/course/live-chat-for-web...    1.0  \n",
       "2     https://www.udemy.com/course/networkleadkings/    2.0  \n",
       "3  https://www.udemy.com/course/email-list-buildi...    1.0  \n",
       "4  https://www.udemy.com/course/learn-digital-mar...    3.0  "
      ]
     },
     "execution_count": 3,
     "metadata": {},
     "output_type": "execute_result"
    }
   ],
   "source": [
    "df = catalog.load(\"preprocessed_udemy\")\n",
    "df.head()"
   ]
  },
  {
   "cell_type": "code",
   "execution_count": 4,
   "metadata": {},
   "outputs": [
    {
     "name": "stderr",
     "output_type": "stream",
     "text": [
      "c:\\users\\enrmeao\\pycharmprojects\\coursing\\venv\\lib\\site-packages\\ipykernel\\ipkernel.py:287: DeprecationWarning: `should_run_async` will not call `transform_cell` automatically in the future. Please pass the result to `transformed_cell` argument and any exception that happen during thetransform in `preprocessing_exc_tuple` in IPython 7.17 and above.\n",
      "  and should_run_async(code)\n"
     ]
    },
    {
     "data": {
      "text/html": [
       "<div>\n",
       "<style scoped>\n",
       "    .dataframe tbody tr th:only-of-type {\n",
       "        vertical-align: middle;\n",
       "    }\n",
       "\n",
       "    .dataframe tbody tr th {\n",
       "        vertical-align: top;\n",
       "    }\n",
       "\n",
       "    .dataframe thead th {\n",
       "        text-align: right;\n",
       "    }\n",
       "</style>\n",
       "<table border=\"1\" class=\"dataframe\">\n",
       "  <thead>\n",
       "    <tr style=\"text-align: right;\">\n",
       "      <th></th>\n",
       "      <th>cost</th>\n",
       "      <th>free</th>\n",
       "      <th>n_students</th>\n",
       "      <th>rating</th>\n",
       "      <th>hours</th>\n",
       "    </tr>\n",
       "  </thead>\n",
       "  <tbody>\n",
       "    <tr>\n",
       "      <th>count</th>\n",
       "      <td>125948.000000</td>\n",
       "      <td>125948.000000</td>\n",
       "      <td>1.256190e+05</td>\n",
       "      <td>124957.000000</td>\n",
       "      <td>118130.000000</td>\n",
       "    </tr>\n",
       "    <tr>\n",
       "      <th>mean</th>\n",
       "      <td>53.697276</td>\n",
       "      <td>0.098461</td>\n",
       "      <td>3.115927e+03</td>\n",
       "      <td>3.662475</td>\n",
       "      <td>4.228763</td>\n",
       "    </tr>\n",
       "    <tr>\n",
       "      <th>std</th>\n",
       "      <td>40.029712</td>\n",
       "      <td>0.297939</td>\n",
       "      <td>1.613436e+04</td>\n",
       "      <td>1.508928</td>\n",
       "      <td>7.476335</td>\n",
       "    </tr>\n",
       "    <tr>\n",
       "      <th>min</th>\n",
       "      <td>0.000000</td>\n",
       "      <td>0.000000</td>\n",
       "      <td>0.000000e+00</td>\n",
       "      <td>0.000000</td>\n",
       "      <td>0.000000</td>\n",
       "    </tr>\n",
       "    <tr>\n",
       "      <th>25%</th>\n",
       "      <td>19.990000</td>\n",
       "      <td>0.000000</td>\n",
       "      <td>2.300000e+01</td>\n",
       "      <td>3.600000</td>\n",
       "      <td>1.000000</td>\n",
       "    </tr>\n",
       "    <tr>\n",
       "      <th>50%</th>\n",
       "      <td>49.990000</td>\n",
       "      <td>0.000000</td>\n",
       "      <td>2.090000e+02</td>\n",
       "      <td>4.200000</td>\n",
       "      <td>2.000000</td>\n",
       "    </tr>\n",
       "    <tr>\n",
       "      <th>75%</th>\n",
       "      <td>94.990000</td>\n",
       "      <td>0.000000</td>\n",
       "      <td>1.595000e+03</td>\n",
       "      <td>4.500000</td>\n",
       "      <td>4.000000</td>\n",
       "    </tr>\n",
       "    <tr>\n",
       "      <th>max</th>\n",
       "      <td>199.990000</td>\n",
       "      <td>1.000000</td>\n",
       "      <td>1.582257e+06</td>\n",
       "      <td>5.000000</td>\n",
       "      <td>254.000000</td>\n",
       "    </tr>\n",
       "  </tbody>\n",
       "</table>\n",
       "</div>"
      ],
      "text/plain": [
       "                cost           free    n_students         rating  \\\n",
       "count  125948.000000  125948.000000  1.256190e+05  124957.000000   \n",
       "mean       53.697276       0.098461  3.115927e+03       3.662475   \n",
       "std        40.029712       0.297939  1.613436e+04       1.508928   \n",
       "min         0.000000       0.000000  0.000000e+00       0.000000   \n",
       "25%        19.990000       0.000000  2.300000e+01       3.600000   \n",
       "50%        49.990000       0.000000  2.090000e+02       4.200000   \n",
       "75%        94.990000       0.000000  1.595000e+03       4.500000   \n",
       "max       199.990000       1.000000  1.582257e+06       5.000000   \n",
       "\n",
       "               hours  \n",
       "count  118130.000000  \n",
       "mean        4.228763  \n",
       "std         7.476335  \n",
       "min         0.000000  \n",
       "25%         1.000000  \n",
       "50%         2.000000  \n",
       "75%         4.000000  \n",
       "max       254.000000  "
      ]
     },
     "execution_count": 4,
     "metadata": {},
     "output_type": "execute_result"
    }
   ],
   "source": [
    "df.describe()"
   ]
  },
  {
   "cell_type": "markdown",
   "metadata": {},
   "source": [
    "## Null values"
   ]
  },
  {
   "cell_type": "code",
   "execution_count": 5,
   "metadata": {},
   "outputs": [
    {
     "name": "stderr",
     "output_type": "stream",
     "text": [
      "c:\\users\\enrmeao\\pycharmprojects\\coursing\\venv\\lib\\site-packages\\ipykernel\\ipkernel.py:287: DeprecationWarning: `should_run_async` will not call `transform_cell` automatically in the future. Please pass the result to `transformed_cell` argument and any exception that happen during thetransform in `preprocessing_exc_tuple` in IPython 7.17 and above.\n",
      "  and should_run_async(code)\n"
     ]
    },
    {
     "data": {
      "text/plain": [
       "0"
      ]
     },
     "execution_count": 5,
     "metadata": {},
     "output_type": "execute_result"
    }
   ],
   "source": [
    "df.title.isna().sum()"
   ]
  },
  {
   "cell_type": "code",
   "execution_count": 6,
   "metadata": {},
   "outputs": [
    {
     "data": {
      "text/plain": [
       "1084"
      ]
     },
     "execution_count": 6,
     "metadata": {},
     "output_type": "execute_result"
    }
   ],
   "source": [
    "df.description_extend.isna().sum()"
   ]
  },
  {
   "cell_type": "code",
   "execution_count": 7,
   "metadata": {},
   "outputs": [
    {
     "data": {
      "text/plain": [
       "26"
      ]
     },
     "execution_count": 7,
     "metadata": {},
     "output_type": "execute_result"
    }
   ],
   "source": [
    "df.description.isna().sum()"
   ]
  },
  {
   "cell_type": "code",
   "execution_count": 8,
   "metadata": {},
   "outputs": [
    {
     "data": {
      "text/plain": [
       "1066"
      ]
     },
     "execution_count": 8,
     "metadata": {},
     "output_type": "execute_result"
    }
   ],
   "source": [
    "df.category.isna().sum()"
   ]
  },
  {
   "cell_type": "code",
   "execution_count": 9,
   "metadata": {},
   "outputs": [
    {
     "data": {
      "text/plain": [
       "0"
      ]
     },
     "execution_count": 9,
     "metadata": {},
     "output_type": "execute_result"
    }
   ],
   "source": [
    "df.cost.isna().sum()"
   ]
  },
  {
   "cell_type": "code",
   "execution_count": 10,
   "metadata": {},
   "outputs": [
    {
     "data": {
      "text/plain": [
       "1066"
      ]
     },
     "execution_count": 10,
     "metadata": {},
     "output_type": "execute_result"
    }
   ],
   "source": [
    "df.language.isna().sum()"
   ]
  },
  {
   "cell_type": "code",
   "execution_count": 11,
   "metadata": {},
   "outputs": [
    {
     "data": {
      "text/plain": [
       "329"
      ]
     },
     "execution_count": 11,
     "metadata": {},
     "output_type": "execute_result"
    }
   ],
   "source": [
    "df.n_students.isna().sum()"
   ]
  },
  {
   "cell_type": "code",
   "execution_count": 12,
   "metadata": {},
   "outputs": [
    {
     "data": {
      "text/plain": [
       "991"
      ]
     },
     "execution_count": 12,
     "metadata": {},
     "output_type": "execute_result"
    }
   ],
   "source": [
    "df.rating.isna().sum()"
   ]
  },
  {
   "cell_type": "code",
   "execution_count": 13,
   "metadata": {},
   "outputs": [
    {
     "data": {
      "text/plain": [
       "(125948, 14)"
      ]
     },
     "execution_count": 13,
     "metadata": {},
     "output_type": "execute_result"
    }
   ],
   "source": [
    "df.shape"
   ]
  },
  {
   "cell_type": "code",
   "execution_count": 14,
   "metadata": {},
   "outputs": [
    {
     "data": {
      "text/plain": [
       "category                                                      Marketing\n",
       "cost                                                             109.99\n",
       "description           Full WordPress With All premium Theme And Plug...\n",
       "description_extend    Learn Full Digital Marketing Training Start To...\n",
       "free                                                                  0\n",
       "instructor                                              Harvinder Kumar\n",
       "language                                                        English\n",
       "n_students                                                         10.0\n",
       "rating                                                              5.0\n",
       "sessions                                 3 sections, • ,19 lectures, • \n",
       "subcategory                                           Digital Marketing\n",
       "title                 Learn Full Digital Marketing Training Start To...\n",
       "url                   https://www.udemy.com/course/learn-full-digita...\n",
       "hours                                                               2.0\n",
       "Name: 0, dtype: object"
      ]
     },
     "execution_count": 14,
     "metadata": {},
     "output_type": "execute_result"
    }
   ],
   "source": [
    "df.iloc[0]"
   ]
  },
  {
   "cell_type": "code",
   "execution_count": 15,
   "metadata": {},
   "outputs": [
    {
     "name": "stdout",
     "output_type": "stream",
     "text": [
      "absl-py==0.11.0Note: you may need to restart the kernel to use updated packages.\n",
      "anyconfig==0.9.11\n",
      "appdirs==1.4.4\n",
      "argon2-cffi==20.1.0\n",
      "arrow==0.17.0\n",
      "astunparse==1.6.3\n",
      "async-generator==1.10\n",
      "atomicwrites==1.4.0\n",
      "attrs==20.3.0\n",
      "Automat==20.2.0\n",
      "autoviz==0.0.81\n",
      "backcall==0.2.0\n",
      "bertopic==0.4.3\n",
      "binaryornot==0.4.4\n",
      "black==19.10b0\n",
      "bleach==3.2.1\n",
      "Brotli==1.0.9\n",
      "cachetools==4.1.1\n",
      "catboost==0.23.2\n",
      "certifi==2020.12.5\n",
      "cffi==1.14.4\n",
      "chardet==3.0.4\n",
      "click==7.1.2\n",
      "colorama==0.4.4\n",
      "confuse==1.4.0\n",
      "constantly==15.1.0\n",
      "cookiecutter==1.6.0\n",
      "coverage==5.3\n",
      "cryptography==3.3.1\n",
      "\n",
      "cssselect==1.1.0\n",
      "cycler==0.10.0\n",
      "Cython==0.29.14\n",
      "dash==1.19.0\n",
      "dash-bootstrap-components==0.11.3\n",
      "dash-colorscales==0.0.4\n",
      "dash-core-components==1.15.0\n",
      "dash-daq==0.5.0\n",
      "dash-html-components==1.1.2\n",
      "dash-renderer==1.9.0\n",
      "dash-table==4.11.2\n",
      "dataclasses==0.6\n",
      "decorator==4.4.2\n",
      "defusedxml==0.6.0\n",
      "dtale==1.36.0\n",
      "entrypoints==0.3\n",
      "et-xmlfile==1.0.1\n",
      "fastapi==0.63.0\n",
      "feature-engine==1.0.2\n",
      "filelock==3.0.12\n",
      "flake8==3.8.4\n",
      "Flask==1.1.2\n",
      "Flask-Compress==1.9.0\n",
      "flask-ngrok==0.0.25\n",
      "flatbuffers==1.12\n",
      "fsspec==0.6.3\n",
      "future==0.18.2\n",
      "gast==0.3.3\n",
      "gensim==3.8.3\n",
      "google-auth==1.24.0\n",
      "google-auth-oauthlib==0.4.2\n",
      "google-pasta==0.2.0\n",
      "graphviz==0.15\n",
      "grpcio==1.32.0\n",
      "h11==0.12.0\n",
      "h5py==2.10.0\n",
      "hdbscan==0.8.26\n",
      "hnswlib==0.5.1\n",
      "htmlmin==0.1.12\n",
      "hyperlink==20.0.1\n",
      "idna==2.10\n",
      "ImageHash==4.2.0\n",
      "importlib-metadata==3.1.1\n",
      "incremental==17.5.0\n",
      "ipykernel==5.3.4\n",
      "ipython==7.19.0\n",
      "ipython-genutils==0.2.0\n",
      "ipywidgets==7.5.1\n",
      "isort==4.3.21\n",
      "itemadapter==0.2.0\n",
      "itemloaders==1.0.4\n",
      "itsdangerous==1.1.0\n",
      "jdcal==1.4.1\n",
      "jedi==0.17.2\n",
      "Jinja2==2.11.2\n",
      "jinja2-time==0.2.0\n",
      "jmespath==0.10.0\n",
      "joblib==0.17.0\n",
      "jsonschema==3.2.0\n",
      "jupyter==1.0.0\n",
      "jupyter-client==6.1.7\n",
      "jupyter-console==6.2.0\n",
      "jupyter-core==4.7.0\n",
      "jupyterlab==0.31.1\n",
      "jupyterlab-launcher==0.10.5\n",
      "jupyterlab-pygments==0.1.2\n",
      "kaleido==0.1.0.post1\n",
      "kedro==0.16.6\n",
      "kedro-docker==0.2.2\n",
      "Keras-Preprocessing==1.1.2\n",
      "kiwisolver==1.3.1\n",
      "llvmlite==0.35.0\n",
      "lxml==4.6.2\n",
      "lz4==3.1.3\n",
      "Markdown==3.3.3\n",
      "MarkupSafe==1.1.1\n",
      "matplotlib==3.3.3\n",
      "mccabe==0.6.1\n",
      "missingno==0.4.2\n",
      "mistune==0.8.4\n",
      "more-itertools==8.6.0\n",
      "nbclient==0.5.1\n",
      "nbconvert==6.0.7\n",
      "nbformat==5.0.8\n",
      "nbstripout==0.3.3\n",
      "nest-asyncio==1.4.3\n",
      "networkx==2.5\n",
      "nltk==3.5\n",
      "nlu==1.0.5\n",
      "notebook==6.1.5\n",
      "numba==0.52.0\n",
      "numpy==1.19.2\n",
      "oauthlib==3.1.0\n",
      "openpyxl==3.0.6\n",
      "opt-einsum==3.3.0\n",
      "packaging==20.7\n",
      "pandas==1.2.1\n",
      "pandas-profiling==2.10.1\n",
      "pandocfilters==1.4.3\n",
      "parsel==1.6.0\n",
      "parso==0.7.1\n",
      "pathspec==0.8.1\n",
      "patsy==0.5.1\n",
      "phik==0.11.0\n",
      "pickleshare==0.7.5\n",
      "Pillow==8.1.0\n",
      "pip-tools==5.4.0\n",
      "plotly==4.14.2\n",
      "pluggy==0.13.1\n",
      "poyo==0.5.0\n",
      "ppscore==1.2.0\n",
      "prometheus-client==0.9.0\n",
      "prompt-toolkit==3.0.8\n",
      "Protego==0.1.16\n",
      "protobuf==3.14.0\n",
      "py==1.9.0\n",
      "py4j==0.10.7\n",
      "pyarrow==2.0.0\n",
      "pyasn1==0.4.8\n",
      "pyasn1-modules==0.2.8\n",
      "pycodestyle==2.6.0\n",
      "pycparser==2.20\n",
      "pydantic==1.7.3\n",
      "PyDispatcher==2.0.5\n",
      "pydrift==0.2.8\n",
      "pyflakes==2.2.0\n",
      "Pygments==2.7.3\n",
      "PyHamcrest==2.0.2\n",
      "pynndescent==0.5.1\n",
      "pyOpenSSL==20.0.1\n",
      "pyparsing==2.4.7\n",
      "pyrsistent==0.17.3\n",
      "pyspark==2.4.7\n",
      "pytest==5.4.3\n",
      "pytest-cov==2.10.1\n",
      "pytest-mock==1.13.0\n",
      "python-dateutil==2.8.1\n",
      "python-json-logger==0.1.11\n",
      "pytz==2020.4\n",
      "PyWavelets==1.1.1\n",
      "pywin32==300\n",
      "pywinpty==0.5.7\n",
      "PyYAML==5.3.1\n",
      "pyzmq==20.0.0\n",
      "qtconsole==5.0.1\n",
      "QtPy==1.9.0\n",
      "queuelib==1.5.0\n",
      "regex==2020.11.13\n",
      "requests==2.25.0\n",
      "requests-oauthlib==1.3.0\n",
      "retrying==1.3.3\n",
      "rsa==4.6\n",
      "sacremoses==0.0.43\n",
      "scikit-learn==0.23.1\n",
      "scipy==1.5.4\n",
      "Scrapy==2.4.1\n",
      "seaborn==0.11.1\n",
      "selenium==3.141.0\n",
      "semver==2.13.0\n",
      "Send2Trash==1.5.0\n",
      "sentence-transformers==0.4.0\n",
      "sentencepiece==0.1.94\n",
      "service-identity==18.1.0\n",
      "six==1.15.0\n",
      "smart-open==4.1.2\n",
      "spark-nlp==2.6.5\n",
      "squarify==0.4.3\n",
      "starlette==0.13.6\n",
      "statsmodels==0.11.1\n",
      "strsimpy==0.2.0\n",
      "tangled-up-in-unicode==0.0.6\n",
      "tensorboard==2.4.0\n",
      "tensorboard-plugin-wit==1.7.0\n",
      "tensorflow==2.4.0\n",
      "tensorflow-estimator==2.4.0\n",
      "tensorflow-hub==0.11.0\n",
      "tensorflow-text==2.4.3\n",
      "termcolor==1.1.0\n",
      "terminado==0.9.1\n",
      "testpath==0.4.4\n",
      "threadpoolctl==2.1.0\n",
      "tokenizers==0.9.4\n",
      "toml==0.10.2\n",
      "top2vec==1.0.21\n",
      "toposort==1.5\n",
      "torch==1.7.1\n",
      "tornado==6.1\n",
      "tqdm==4.55.0\n",
      "traitlets==5.0.5\n",
      "transformers==4.1.1\n",
      "Twisted==20.3.0\n",
      "typed-ast==1.4.1\n",
      "typing-extensions==3.7.4.3\n",
      "umap-learn==0.5.0\n",
      "urllib3==1.26.2\n",
      "uvicorn==0.13.3\n",
      "visions==0.6.0\n",
      "w3lib==1.22.0\n",
      "wcwidth==0.2.5\n",
      "webencodings==0.5.1\n",
      "Werkzeug==1.0.1\n",
      "whichcraft==0.6.1\n",
      "widgetsnbextension==3.5.1\n",
      "wordcloud==1.8.1\n",
      "wrapt==1.12.1\n",
      "xarray==0.16.2\n",
      "xgboost==1.3.3\n",
      "xlrd==2.0.1\n",
      "zipp==3.4.0\n",
      "zope.interface==5.2.0\n"
     ]
    }
   ],
   "source": [
    "pip freeze"
   ]
  }
 ],
 "metadata": {
  "kernelspec": {
   "display_name": "coursingml",
   "language": "python",
   "name": "python3"
  },
  "language_info": {
   "codemirror_mode": {
    "name": "ipython",
    "version": 3
   },
   "file_extension": ".py",
   "mimetype": "text/x-python",
   "name": "python",
   "nbconvert_exporter": "python",
   "pygments_lexer": "ipython3",
   "version": "3.7.8"
  }
 },
 "nbformat": 4,
 "nbformat_minor": 4
}
