{
 "cells": [
  {
   "cell_type": "code",
   "execution_count": 1,
   "metadata": {},
   "outputs": [
    {
     "name": "stderr",
     "output_type": "stream",
     "text": [
      "c:\\users\\enrmeao\\pycharmprojects\\coursing\\venv\\lib\\site-packages\\ipykernel\\ipkernel.py:287: DeprecationWarning: `should_run_async` will not call `transform_cell` automatically in the future. Please pass the result to `transformed_cell` argument and any exception that happen during thetransform in `preprocessing_exc_tuple` in IPython 7.17 and above.\n",
      "  and should_run_async(code)\n"
     ]
    },
    {
     "name": "stdout",
     "output_type": "stream",
     "text": [
      "2021-06-19 02:29:33,595 - root - INFO - ** Kedro project coursing-ml\n",
      "2021-06-19 02:29:33,599 - root - INFO - Defined global variable `context` and `catalog`\n"
     ]
    }
   ],
   "source": [
    "%reload_kedro"
   ]
  },
  {
   "cell_type": "code",
   "execution_count": 2,
   "metadata": {},
   "outputs": [],
   "source": [
    "import pandas as pd\n",
    "from sklearn import preprocessing"
   ]
  },
  {
   "cell_type": "code",
   "execution_count": 3,
   "metadata": {},
   "outputs": [
    {
     "name": "stdout",
     "output_type": "stream",
     "text": [
      "2021-06-19 02:29:52,911 - kedro.io.data_catalog - INFO - Loading data from `preprocessed_udemy` (CSVDataSet)...\n"
     ]
    },
    {
     "data": {
      "text/html": [
       "<div>\n",
       "<style scoped>\n",
       "    .dataframe tbody tr th:only-of-type {\n",
       "        vertical-align: middle;\n",
       "    }\n",
       "\n",
       "    .dataframe tbody tr th {\n",
       "        vertical-align: top;\n",
       "    }\n",
       "\n",
       "    .dataframe thead th {\n",
       "        text-align: right;\n",
       "    }\n",
       "</style>\n",
       "<table border=\"1\" class=\"dataframe\">\n",
       "  <thead>\n",
       "    <tr style=\"text-align: right;\">\n",
       "      <th></th>\n",
       "      <th>category</th>\n",
       "      <th>cost</th>\n",
       "      <th>description</th>\n",
       "      <th>description_extend</th>\n",
       "      <th>free</th>\n",
       "      <th>instructor</th>\n",
       "      <th>language</th>\n",
       "      <th>n_students</th>\n",
       "      <th>rating</th>\n",
       "      <th>sessions</th>\n",
       "      <th>subcategory</th>\n",
       "      <th>title</th>\n",
       "      <th>url</th>\n",
       "      <th>hours</th>\n",
       "    </tr>\n",
       "  </thead>\n",
       "  <tbody>\n",
       "    <tr>\n",
       "      <th>0</th>\n",
       "      <td>Marketing</td>\n",
       "      <td>109.99</td>\n",
       "      <td>Full WordPress With All premium Theme And Plug...</td>\n",
       "      <td>Learn Full Digital Marketing Training Start To...</td>\n",
       "      <td>0</td>\n",
       "      <td>Harvinder Kumar</td>\n",
       "      <td>English</td>\n",
       "      <td>10.0</td>\n",
       "      <td>5.0</td>\n",
       "      <td>3 sections, • ,19 lectures, •</td>\n",
       "      <td>Digital Marketing</td>\n",
       "      <td>Learn Full Digital Marketing Training Start To...</td>\n",
       "      <td>https://www.udemy.com/course/learn-full-digita...</td>\n",
       "      <td>2.0</td>\n",
       "    </tr>\n",
       "    <tr>\n",
       "      <th>1</th>\n",
       "      <td>Marketing</td>\n",
       "      <td>49.99</td>\n",
       "      <td>Implement chatbot on your website and start co...</td>\n",
       "      <td>In this course I will be covering how you can ...</td>\n",
       "      <td>0</td>\n",
       "      <td>Sayed N</td>\n",
       "      <td>English</td>\n",
       "      <td>160.0</td>\n",
       "      <td>5.0</td>\n",
       "      <td>6 sections, • ,11 lectures, •</td>\n",
       "      <td>Digital Marketing</td>\n",
       "      <td>Chatbot for Websites using Facebook Messenger,...</td>\n",
       "      <td>https://www.udemy.com/course/live-chat-for-web...</td>\n",
       "      <td>1.0</td>\n",
       "    </tr>\n",
       "    <tr>\n",
       "      <th>2</th>\n",
       "      <td>Marketing</td>\n",
       "      <td>24.99</td>\n",
       "      <td>BRAND NEW ! 'Transform' your Social media Prof...</td>\n",
       "      <td>You are provided with every template tool and ...</td>\n",
       "      <td>0</td>\n",
       "      <td>blake nuba</td>\n",
       "      <td>English</td>\n",
       "      <td>7.0</td>\n",
       "      <td>5.0</td>\n",
       "      <td>1 section, • ,30 lectures, •</td>\n",
       "      <td>Digital Marketing</td>\n",
       "      <td>Clickfunnels &amp; Sales Funnels mastery in 2021 +...</td>\n",
       "      <td>https://www.udemy.com/course/networkleadkings/</td>\n",
       "      <td>2.0</td>\n",
       "    </tr>\n",
       "    <tr>\n",
       "      <th>3</th>\n",
       "      <td>Marketing</td>\n",
       "      <td>109.99</td>\n",
       "      <td>Grow an Email List of Warm and Qualified Leads...</td>\n",
       "      <td>Email Marketing is still surprisingly underrat...</td>\n",
       "      <td>0</td>\n",
       "      <td>Ilya Lobanov</td>\n",
       "      <td>English</td>\n",
       "      <td>16.0</td>\n",
       "      <td>5.0</td>\n",
       "      <td>5 sections, • ,11 lectures, •</td>\n",
       "      <td>Digital Marketing</td>\n",
       "      <td>Email Marketing: List Building and Lead Magnet...</td>\n",
       "      <td>https://www.udemy.com/course/email-list-buildi...</td>\n",
       "      <td>1.0</td>\n",
       "    </tr>\n",
       "    <tr>\n",
       "      <th>4</th>\n",
       "      <td>Marketing</td>\n",
       "      <td>49.99</td>\n",
       "      <td>Identify your target market create actionable ...</td>\n",
       "      <td>This course cuts through the digital advertisi...</td>\n",
       "      <td>0</td>\n",
       "      <td>Brian Barna</td>\n",
       "      <td>English</td>\n",
       "      <td>12.0</td>\n",
       "      <td>5.0</td>\n",
       "      <td>5 sections, • ,18 lectures, •</td>\n",
       "      <td>Digital Marketing</td>\n",
       "      <td>Learn Digital Marketing: Strategy, Tactics, Pl...</td>\n",
       "      <td>https://www.udemy.com/course/learn-digital-mar...</td>\n",
       "      <td>3.0</td>\n",
       "    </tr>\n",
       "  </tbody>\n",
       "</table>\n",
       "</div>"
      ],
      "text/plain": [
       "    category    cost                                        description  \\\n",
       "0  Marketing  109.99  Full WordPress With All premium Theme And Plug...   \n",
       "1  Marketing   49.99  Implement chatbot on your website and start co...   \n",
       "2  Marketing   24.99  BRAND NEW ! 'Transform' your Social media Prof...   \n",
       "3  Marketing  109.99  Grow an Email List of Warm and Qualified Leads...   \n",
       "4  Marketing   49.99  Identify your target market create actionable ...   \n",
       "\n",
       "                                  description_extend  free       instructor  \\\n",
       "0  Learn Full Digital Marketing Training Start To...     0  Harvinder Kumar   \n",
       "1  In this course I will be covering how you can ...     0          Sayed N   \n",
       "2  You are provided with every template tool and ...     0       blake nuba   \n",
       "3  Email Marketing is still surprisingly underrat...     0     Ilya Lobanov   \n",
       "4  This course cuts through the digital advertisi...     0      Brian Barna   \n",
       "\n",
       "  language  n_students  rating                        sessions  \\\n",
       "0  English        10.0     5.0  3 sections, • ,19 lectures, •    \n",
       "1  English       160.0     5.0  6 sections, • ,11 lectures, •    \n",
       "2  English         7.0     5.0   1 section, • ,30 lectures, •    \n",
       "3  English        16.0     5.0  5 sections, • ,11 lectures, •    \n",
       "4  English        12.0     5.0  5 sections, • ,18 lectures, •    \n",
       "\n",
       "         subcategory                                              title  \\\n",
       "0  Digital Marketing  Learn Full Digital Marketing Training Start To...   \n",
       "1  Digital Marketing  Chatbot for Websites using Facebook Messenger,...   \n",
       "2  Digital Marketing  Clickfunnels & Sales Funnels mastery in 2021 +...   \n",
       "3  Digital Marketing  Email Marketing: List Building and Lead Magnet...   \n",
       "4  Digital Marketing  Learn Digital Marketing: Strategy, Tactics, Pl...   \n",
       "\n",
       "                                                 url  hours  \n",
       "0  https://www.udemy.com/course/learn-full-digita...    2.0  \n",
       "1  https://www.udemy.com/course/live-chat-for-web...    1.0  \n",
       "2     https://www.udemy.com/course/networkleadkings/    2.0  \n",
       "3  https://www.udemy.com/course/email-list-buildi...    1.0  \n",
       "4  https://www.udemy.com/course/learn-digital-mar...    3.0  "
      ]
     },
     "execution_count": 3,
     "metadata": {},
     "output_type": "execute_result"
    }
   ],
   "source": [
    "df = catalog.load(\"preprocessed_udemy\")\n",
    "df.head()"
   ]
  },
  {
   "cell_type": "code",
   "execution_count": 4,
   "metadata": {},
   "outputs": [
    {
     "name": "stderr",
     "output_type": "stream",
     "text": [
      "c:\\users\\enrmeao\\pycharmprojects\\coursing\\venv\\lib\\site-packages\\ipykernel\\ipkernel.py:287: DeprecationWarning: `should_run_async` will not call `transform_cell` automatically in the future. Please pass the result to `transformed_cell` argument and any exception that happen during thetransform in `preprocessing_exc_tuple` in IPython 7.17 and above.\n",
      "  and should_run_async(code)\n"
     ]
    },
    {
     "data": {
      "text/html": [
       "<div>\n",
       "<style scoped>\n",
       "    .dataframe tbody tr th:only-of-type {\n",
       "        vertical-align: middle;\n",
       "    }\n",
       "\n",
       "    .dataframe tbody tr th {\n",
       "        vertical-align: top;\n",
       "    }\n",
       "\n",
       "    .dataframe thead th {\n",
       "        text-align: right;\n",
       "    }\n",
       "</style>\n",
       "<table border=\"1\" class=\"dataframe\">\n",
       "  <thead>\n",
       "    <tr style=\"text-align: right;\">\n",
       "      <th></th>\n",
       "      <th>cost</th>\n",
       "      <th>free</th>\n",
       "      <th>n_students</th>\n",
       "      <th>rating</th>\n",
       "      <th>hours</th>\n",
       "    </tr>\n",
       "  </thead>\n",
       "  <tbody>\n",
       "    <tr>\n",
       "      <th>count</th>\n",
       "      <td>125948.000000</td>\n",
       "      <td>125948.000000</td>\n",
       "      <td>1.256190e+05</td>\n",
       "      <td>124957.000000</td>\n",
       "      <td>118130.000000</td>\n",
       "    </tr>\n",
       "    <tr>\n",
       "      <th>mean</th>\n",
       "      <td>53.697276</td>\n",
       "      <td>0.098461</td>\n",
       "      <td>3.115927e+03</td>\n",
       "      <td>3.662475</td>\n",
       "      <td>4.228763</td>\n",
       "    </tr>\n",
       "    <tr>\n",
       "      <th>std</th>\n",
       "      <td>40.029712</td>\n",
       "      <td>0.297939</td>\n",
       "      <td>1.613436e+04</td>\n",
       "      <td>1.508928</td>\n",
       "      <td>7.476335</td>\n",
       "    </tr>\n",
       "    <tr>\n",
       "      <th>min</th>\n",
       "      <td>0.000000</td>\n",
       "      <td>0.000000</td>\n",
       "      <td>0.000000e+00</td>\n",
       "      <td>0.000000</td>\n",
       "      <td>0.000000</td>\n",
       "    </tr>\n",
       "    <tr>\n",
       "      <th>25%</th>\n",
       "      <td>19.990000</td>\n",
       "      <td>0.000000</td>\n",
       "      <td>2.300000e+01</td>\n",
       "      <td>3.600000</td>\n",
       "      <td>1.000000</td>\n",
       "    </tr>\n",
       "    <tr>\n",
       "      <th>50%</th>\n",
       "      <td>49.990000</td>\n",
       "      <td>0.000000</td>\n",
       "      <td>2.090000e+02</td>\n",
       "      <td>4.200000</td>\n",
       "      <td>2.000000</td>\n",
       "    </tr>\n",
       "    <tr>\n",
       "      <th>75%</th>\n",
       "      <td>94.990000</td>\n",
       "      <td>0.000000</td>\n",
       "      <td>1.595000e+03</td>\n",
       "      <td>4.500000</td>\n",
       "      <td>4.000000</td>\n",
       "    </tr>\n",
       "    <tr>\n",
       "      <th>max</th>\n",
       "      <td>199.990000</td>\n",
       "      <td>1.000000</td>\n",
       "      <td>1.582257e+06</td>\n",
       "      <td>5.000000</td>\n",
       "      <td>254.000000</td>\n",
       "    </tr>\n",
       "  </tbody>\n",
       "</table>\n",
       "</div>"
      ],
      "text/plain": [
       "                cost           free    n_students         rating  \\\n",
       "count  125948.000000  125948.000000  1.256190e+05  124957.000000   \n",
       "mean       53.697276       0.098461  3.115927e+03       3.662475   \n",
       "std        40.029712       0.297939  1.613436e+04       1.508928   \n",
       "min         0.000000       0.000000  0.000000e+00       0.000000   \n",
       "25%        19.990000       0.000000  2.300000e+01       3.600000   \n",
       "50%        49.990000       0.000000  2.090000e+02       4.200000   \n",
       "75%        94.990000       0.000000  1.595000e+03       4.500000   \n",
       "max       199.990000       1.000000  1.582257e+06       5.000000   \n",
       "\n",
       "               hours  \n",
       "count  118130.000000  \n",
       "mean        4.228763  \n",
       "std         7.476335  \n",
       "min         0.000000  \n",
       "25%         1.000000  \n",
       "50%         2.000000  \n",
       "75%         4.000000  \n",
       "max       254.000000  "
      ]
     },
     "execution_count": 4,
     "metadata": {},
     "output_type": "execute_result"
    }
   ],
   "source": [
    "df.describe()"
   ]
  },
  {
   "cell_type": "markdown",
   "metadata": {},
   "source": [
    "## Null values"
   ]
  },
  {
   "cell_type": "code",
   "execution_count": 5,
   "metadata": {},
   "outputs": [
    {
     "name": "stderr",
     "output_type": "stream",
     "text": [
      "c:\\users\\enrmeao\\pycharmprojects\\coursing\\venv\\lib\\site-packages\\ipykernel\\ipkernel.py:287: DeprecationWarning: `should_run_async` will not call `transform_cell` automatically in the future. Please pass the result to `transformed_cell` argument and any exception that happen during thetransform in `preprocessing_exc_tuple` in IPython 7.17 and above.\n",
      "  and should_run_async(code)\n"
     ]
    },
    {
     "data": {
      "text/plain": [
       "0"
      ]
     },
     "execution_count": 5,
     "metadata": {},
     "output_type": "execute_result"
    }
   ],
   "source": [
    "df.title.isna().sum()"
   ]
  },
  {
   "cell_type": "code",
   "execution_count": 6,
   "metadata": {},
   "outputs": [
    {
     "data": {
      "text/plain": [
       "1084"
      ]
     },
     "execution_count": 6,
     "metadata": {},
     "output_type": "execute_result"
    }
   ],
   "source": [
    "df.description_extend.isna().sum()"
   ]
  },
  {
   "cell_type": "code",
   "execution_count": 7,
   "metadata": {},
   "outputs": [
    {
     "data": {
      "text/plain": [
       "26"
      ]
     },
     "execution_count": 7,
     "metadata": {},
     "output_type": "execute_result"
    }
   ],
   "source": [
    "df.description.isna().sum()"
   ]
  },
  {
   "cell_type": "code",
   "execution_count": 8,
   "metadata": {},
   "outputs": [
    {
     "data": {
      "text/plain": [
       "1066"
      ]
     },
     "execution_count": 8,
     "metadata": {},
     "output_type": "execute_result"
    }
   ],
   "source": [
    "df.category.isna().sum()"
   ]
  },
  {
   "cell_type": "code",
   "execution_count": 9,
   "metadata": {},
   "outputs": [
    {
     "data": {
      "text/plain": [
       "0"
      ]
     },
     "execution_count": 9,
     "metadata": {},
     "output_type": "execute_result"
    }
   ],
   "source": [
    "df.cost.isna().sum()"
   ]
  },
  {
   "cell_type": "code",
   "execution_count": 10,
   "metadata": {},
   "outputs": [
    {
     "data": {
      "text/plain": [
       "1066"
      ]
     },
     "execution_count": 10,
     "metadata": {},
     "output_type": "execute_result"
    }
   ],
   "source": [
    "df.language.isna().sum()"
   ]
  },
  {
   "cell_type": "code",
   "execution_count": 11,
   "metadata": {},
   "outputs": [
    {
     "data": {
      "text/plain": [
       "329"
      ]
     },
     "execution_count": 11,
     "metadata": {},
     "output_type": "execute_result"
    }
   ],
   "source": [
    "df.n_students.isna().sum()"
   ]
  },
  {
   "cell_type": "code",
   "execution_count": 12,
   "metadata": {},
   "outputs": [
    {
     "data": {
      "text/plain": [
       "991"
      ]
     },
     "execution_count": 12,
     "metadata": {},
     "output_type": "execute_result"
    }
   ],
   "source": [
    "df.rating.isna().sum()"
   ]
  },
  {
   "cell_type": "code",
   "execution_count": 14,
   "metadata": {},
   "outputs": [
    {
     "data": {
      "text/plain": [
       "(125948, 14)"
      ]
     },
     "execution_count": 14,
     "metadata": {},
     "output_type": "execute_result"
    }
   ],
   "source": [
    "df.shape"
   ]
  }
 ],
 "metadata": {
  "kernelspec": {
   "display_name": "coursingml",
   "language": "python",
   "name": "python3"
  },
  "language_info": {
   "codemirror_mode": {
    "name": "ipython",
    "version": 3
   },
   "file_extension": ".py",
   "mimetype": "text/x-python",
   "name": "python",
   "nbconvert_exporter": "python",
   "pygments_lexer": "ipython3",
   "version": "3.7.8"
  }
 },
 "nbformat": 4,
 "nbformat_minor": 4
}
