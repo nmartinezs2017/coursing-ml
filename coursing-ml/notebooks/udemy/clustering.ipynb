{
 "cells": [
  {
   "cell_type": "code",
   "execution_count": 1,
   "metadata": {},
   "outputs": [
    {
     "name": "stderr",
     "output_type": "stream",
     "text": [
      "c:\\users\\enrmeao\\pycharmprojects\\coursing\\venv\\lib\\site-packages\\ipykernel\\ipkernel.py:287: DeprecationWarning: `should_run_async` will not call `transform_cell` automatically in the future. Please pass the result to `transformed_cell` argument and any exception that happen during thetransform in `preprocessing_exc_tuple` in IPython 7.17 and above.\n",
      "  and should_run_async(code)\n"
     ]
    },
    {
     "name": "stdout",
     "output_type": "stream",
     "text": [
      "2021-06-20 02:38:29,605 - tensorflow - WARNING - From c:\\users\\enrmeao\\pycharmprojects\\coursing\\venv\\lib\\site-packages\\tensorflow\\python\\compat\\v2_compat.py:96: disable_resource_variables (from tensorflow.python.ops.variable_scope) is deprecated and will be removed in a future version.\n",
      "Instructions for updating:\n",
      "non-resource variables are not supported in the long term\n"
     ]
    }
   ],
   "source": [
    "import pandas as pd\n",
    "import numpy as np\n",
    "import dtale\n",
    "from sklearn.datasets import make_blobs\n",
    "from sklearn.cluster import DBSCAN\n",
    "import numpy as np\n",
    "import numpy as np \n",
    "import pandas as pd\n",
    "import matplotlib.pyplot as plt\n",
    "import seaborn as sns\n",
    "%matplotlib inline \n",
    "import math\n",
    "import numpy as np\n",
    "import numpy.linalg as nla\n",
    "import pandas as pd\n",
    "import re\n",
    "import six\n",
    "from os.path import join\n",
    "from matplotlib import pyplot as plt\n",
    "\n",
    "import tensorflow.compat.v1 as tf\n",
    "tf.disable_v2_behavior()"
   ]
  },
  {
   "cell_type": "code",
   "execution_count": 2,
   "metadata": {},
   "outputs": [
    {
     "name": "stdout",
     "output_type": "stream",
     "text": [
      "2021-06-20 02:38:29,615 - kedro.io.data_catalog - INFO - Loading data from `numerical_features_udemy` (CSVDataSet)...\n"
     ]
    },
    {
     "name": "stderr",
     "output_type": "stream",
     "text": [
      "c:\\users\\enrmeao\\pycharmprojects\\coursing\\venv\\lib\\site-packages\\ipykernel\\ipkernel.py:287: DeprecationWarning:\n",
      "\n",
      "`should_run_async` will not call `transform_cell` automatically in the future. Please pass the result to `transformed_cell` argument and any exception that happen during thetransform in `preprocessing_exc_tuple` in IPython 7.17 and above.\n",
      "\n"
     ]
    }
   ],
   "source": [
    "df = catalog.load(\"numerical_features_udemy\")"
   ]
  },
  {
   "cell_type": "code",
   "execution_count": 3,
   "metadata": {},
   "outputs": [
    {
     "data": {
      "text/html": [
       "<div>\n",
       "<style scoped>\n",
       "    .dataframe tbody tr th:only-of-type {\n",
       "        vertical-align: middle;\n",
       "    }\n",
       "\n",
       "    .dataframe tbody tr th {\n",
       "        vertical-align: top;\n",
       "    }\n",
       "\n",
       "    .dataframe thead th {\n",
       "        text-align: right;\n",
       "    }\n",
       "</style>\n",
       "<table border=\"1\" class=\"dataframe\">\n",
       "  <thead>\n",
       "    <tr style=\"text-align: right;\">\n",
       "      <th></th>\n",
       "      <th>cost</th>\n",
       "      <th>n_students</th>\n",
       "      <th>rating</th>\n",
       "      <th>hours</th>\n",
       "    </tr>\n",
       "  </thead>\n",
       "  <tbody>\n",
       "    <tr>\n",
       "      <th>0</th>\n",
       "      <td>1.251246</td>\n",
       "      <td>-1.103005</td>\n",
       "      <td>1.415539</td>\n",
       "      <td>0.006042</td>\n",
       "    </tr>\n",
       "    <tr>\n",
       "      <th>1</th>\n",
       "      <td>0.116423</td>\n",
       "      <td>-0.138178</td>\n",
       "      <td>1.415539</td>\n",
       "      <td>-0.833108</td>\n",
       "    </tr>\n",
       "    <tr>\n",
       "      <th>2</th>\n",
       "      <td>-0.563619</td>\n",
       "      <td>-1.214076</td>\n",
       "      <td>1.415539</td>\n",
       "      <td>0.006042</td>\n",
       "    </tr>\n",
       "    <tr>\n",
       "      <th>3</th>\n",
       "      <td>1.251246</td>\n",
       "      <td>-0.950017</td>\n",
       "      <td>1.415539</td>\n",
       "      <td>-0.833108</td>\n",
       "    </tr>\n",
       "    <tr>\n",
       "      <th>4</th>\n",
       "      <td>0.116423</td>\n",
       "      <td>-1.044454</td>\n",
       "      <td>1.415539</td>\n",
       "      <td>0.460875</td>\n",
       "    </tr>\n",
       "    <tr>\n",
       "      <th>...</th>\n",
       "      <td>...</td>\n",
       "      <td>...</td>\n",
       "      <td>...</td>\n",
       "      <td>...</td>\n",
       "    </tr>\n",
       "    <tr>\n",
       "      <th>117761</th>\n",
       "      <td>-0.735134</td>\n",
       "      <td>-0.994142</td>\n",
       "      <td>1.415539</td>\n",
       "      <td>-0.833108</td>\n",
       "    </tr>\n",
       "    <tr>\n",
       "      <th>117762</th>\n",
       "      <td>0.116423</td>\n",
       "      <td>1.130374</td>\n",
       "      <td>1.415539</td>\n",
       "      <td>1.219086</td>\n",
       "    </tr>\n",
       "    <tr>\n",
       "      <th>117763</th>\n",
       "      <td>-0.563619</td>\n",
       "      <td>-1.103005</td>\n",
       "      <td>1.415539</td>\n",
       "      <td>0.460875</td>\n",
       "    </tr>\n",
       "    <tr>\n",
       "      <th>117764</th>\n",
       "      <td>0.116423</td>\n",
       "      <td>-1.260437</td>\n",
       "      <td>1.415539</td>\n",
       "      <td>-0.833108</td>\n",
       "    </tr>\n",
       "    <tr>\n",
       "      <th>117765</th>\n",
       "      <td>-0.735134</td>\n",
       "      <td>0.181773</td>\n",
       "      <td>1.415539</td>\n",
       "      <td>-1.609340</td>\n",
       "    </tr>\n",
       "  </tbody>\n",
       "</table>\n",
       "<p>117766 rows × 4 columns</p>\n",
       "</div>"
      ],
      "text/plain": [
       "            cost  n_students    rating     hours\n",
       "0       1.251246   -1.103005  1.415539  0.006042\n",
       "1       0.116423   -0.138178  1.415539 -0.833108\n",
       "2      -0.563619   -1.214076  1.415539  0.006042\n",
       "3       1.251246   -0.950017  1.415539 -0.833108\n",
       "4       0.116423   -1.044454  1.415539  0.460875\n",
       "...          ...         ...       ...       ...\n",
       "117761 -0.735134   -0.994142  1.415539 -0.833108\n",
       "117762  0.116423    1.130374  1.415539  1.219086\n",
       "117763 -0.563619   -1.103005  1.415539  0.460875\n",
       "117764  0.116423   -1.260437  1.415539 -0.833108\n",
       "117765 -0.735134    0.181773  1.415539 -1.609340\n",
       "\n",
       "[117766 rows x 4 columns]"
      ]
     },
     "execution_count": 3,
     "metadata": {},
     "output_type": "execute_result"
    }
   ],
   "source": [
    "df"
   ]
  },
  {
   "cell_type": "code",
   "execution_count": 4,
   "metadata": {},
   "outputs": [
    {
     "name": "stderr",
     "output_type": "stream",
     "text": [
      "c:\\users\\enrmeao\\pycharmprojects\\coursing\\venv\\lib\\site-packages\\ipykernel\\ipkernel.py:287: DeprecationWarning:\n",
      "\n",
      "`should_run_async` will not call `transform_cell` automatically in the future. Please pass the result to `transformed_cell` argument and any exception that happen during thetransform in `preprocessing_exc_tuple` in IPython 7.17 and above.\n",
      "\n"
     ]
    },
    {
     "data": {
      "text/plain": [
       "cost          0\n",
       "n_students    0\n",
       "rating        0\n",
       "hours         0\n",
       "dtype: int64"
      ]
     },
     "execution_count": 4,
     "metadata": {},
     "output_type": "execute_result"
    }
   ],
   "source": [
    "df.isna().sum()"
   ]
  },
  {
   "cell_type": "code",
   "execution_count": 10,
   "metadata": {},
   "outputs": [
    {
     "name": "stderr",
     "output_type": "stream",
     "text": [
      "c:\\users\\enrmeao\\pycharmprojects\\coursing\\venv\\lib\\site-packages\\joblib\\parallel.py:325: DeprecationWarning:\n",
      "\n",
      "check_pickle is deprecated in joblib 0.12 and will be removed in 0.13\n",
      "\n"
     ]
    }
   ],
   "source": [
    "import hdbscan\n",
    "from sklearn.datasets import make_blobs\n",
    "\n",
    "clusterer = hdbscan.HDBSCAN(min_cluster_size=500, min_samples=1)\n",
    "cluster_labels = clusterer.fit_predict(df)"
   ]
  },
  {
   "cell_type": "code",
   "execution_count": 11,
   "metadata": {},
   "outputs": [
    {
     "name": "stderr",
     "output_type": "stream",
     "text": [
      "c:\\users\\enrmeao\\pycharmprojects\\coursing\\venv\\lib\\site-packages\\ipykernel\\ipkernel.py:287: DeprecationWarning:\n",
      "\n",
      "`should_run_async` will not call `transform_cell` automatically in the future. Please pass the result to `transformed_cell` argument and any exception that happen during thetransform in `preprocessing_exc_tuple` in IPython 7.17 and above.\n",
      "\n"
     ]
    },
    {
     "data": {
      "text/plain": [
       "HDBSCAN(min_cluster_size=500, min_samples=1)"
      ]
     },
     "execution_count": 11,
     "metadata": {},
     "output_type": "execute_result"
    }
   ],
   "source": [
    "clusterer"
   ]
  },
  {
   "cell_type": "code",
   "execution_count": 12,
   "metadata": {},
   "outputs": [],
   "source": [
    "df['Labels'] = cluster_labels "
   ]
  },
  {
   "cell_type": "code",
   "execution_count": 13,
   "metadata": {},
   "outputs": [
    {
     "data": {
      "text/html": [
       "<div>\n",
       "<style scoped>\n",
       "    .dataframe tbody tr th:only-of-type {\n",
       "        vertical-align: middle;\n",
       "    }\n",
       "\n",
       "    .dataframe tbody tr th {\n",
       "        vertical-align: top;\n",
       "    }\n",
       "\n",
       "    .dataframe thead th {\n",
       "        text-align: right;\n",
       "    }\n",
       "</style>\n",
       "<table border=\"1\" class=\"dataframe\">\n",
       "  <thead>\n",
       "    <tr style=\"text-align: right;\">\n",
       "      <th></th>\n",
       "      <th>cost</th>\n",
       "      <th>n_students</th>\n",
       "      <th>rating</th>\n",
       "      <th>hours</th>\n",
       "      <th>Labels</th>\n",
       "    </tr>\n",
       "  </thead>\n",
       "  <tbody>\n",
       "    <tr>\n",
       "      <th>0</th>\n",
       "      <td>1.251246</td>\n",
       "      <td>-1.103005</td>\n",
       "      <td>1.415539</td>\n",
       "      <td>0.006042</td>\n",
       "      <td>1</td>\n",
       "    </tr>\n",
       "    <tr>\n",
       "      <th>1</th>\n",
       "      <td>0.116423</td>\n",
       "      <td>-0.138178</td>\n",
       "      <td>1.415539</td>\n",
       "      <td>-0.833108</td>\n",
       "      <td>0</td>\n",
       "    </tr>\n",
       "    <tr>\n",
       "      <th>2</th>\n",
       "      <td>-0.563619</td>\n",
       "      <td>-1.214076</td>\n",
       "      <td>1.415539</td>\n",
       "      <td>0.006042</td>\n",
       "      <td>1</td>\n",
       "    </tr>\n",
       "    <tr>\n",
       "      <th>3</th>\n",
       "      <td>1.251246</td>\n",
       "      <td>-0.950017</td>\n",
       "      <td>1.415539</td>\n",
       "      <td>-0.833108</td>\n",
       "      <td>0</td>\n",
       "    </tr>\n",
       "    <tr>\n",
       "      <th>4</th>\n",
       "      <td>0.116423</td>\n",
       "      <td>-1.044454</td>\n",
       "      <td>1.415539</td>\n",
       "      <td>0.460875</td>\n",
       "      <td>2</td>\n",
       "    </tr>\n",
       "    <tr>\n",
       "      <th>...</th>\n",
       "      <td>...</td>\n",
       "      <td>...</td>\n",
       "      <td>...</td>\n",
       "      <td>...</td>\n",
       "      <td>...</td>\n",
       "    </tr>\n",
       "    <tr>\n",
       "      <th>117761</th>\n",
       "      <td>-0.735134</td>\n",
       "      <td>-0.994142</td>\n",
       "      <td>1.415539</td>\n",
       "      <td>-0.833108</td>\n",
       "      <td>0</td>\n",
       "    </tr>\n",
       "    <tr>\n",
       "      <th>117762</th>\n",
       "      <td>0.116423</td>\n",
       "      <td>1.130374</td>\n",
       "      <td>1.415539</td>\n",
       "      <td>1.219086</td>\n",
       "      <td>2</td>\n",
       "    </tr>\n",
       "    <tr>\n",
       "      <th>117763</th>\n",
       "      <td>-0.563619</td>\n",
       "      <td>-1.103005</td>\n",
       "      <td>1.415539</td>\n",
       "      <td>0.460875</td>\n",
       "      <td>2</td>\n",
       "    </tr>\n",
       "    <tr>\n",
       "      <th>117764</th>\n",
       "      <td>0.116423</td>\n",
       "      <td>-1.260437</td>\n",
       "      <td>1.415539</td>\n",
       "      <td>-0.833108</td>\n",
       "      <td>0</td>\n",
       "    </tr>\n",
       "    <tr>\n",
       "      <th>117765</th>\n",
       "      <td>-0.735134</td>\n",
       "      <td>0.181773</td>\n",
       "      <td>1.415539</td>\n",
       "      <td>-1.609340</td>\n",
       "      <td>0</td>\n",
       "    </tr>\n",
       "  </tbody>\n",
       "</table>\n",
       "<p>117766 rows × 5 columns</p>\n",
       "</div>"
      ],
      "text/plain": [
       "            cost  n_students    rating     hours  Labels\n",
       "0       1.251246   -1.103005  1.415539  0.006042       1\n",
       "1       0.116423   -0.138178  1.415539 -0.833108       0\n",
       "2      -0.563619   -1.214076  1.415539  0.006042       1\n",
       "3       1.251246   -0.950017  1.415539 -0.833108       0\n",
       "4       0.116423   -1.044454  1.415539  0.460875       2\n",
       "...          ...         ...       ...       ...     ...\n",
       "117761 -0.735134   -0.994142  1.415539 -0.833108       0\n",
       "117762  0.116423    1.130374  1.415539  1.219086       2\n",
       "117763 -0.563619   -1.103005  1.415539  0.460875       2\n",
       "117764  0.116423   -1.260437  1.415539 -0.833108       0\n",
       "117765 -0.735134    0.181773  1.415539 -1.609340       0\n",
       "\n",
       "[117766 rows x 5 columns]"
      ]
     },
     "execution_count": 13,
     "metadata": {},
     "output_type": "execute_result"
    }
   ],
   "source": [
    "df"
   ]
  },
  {
   "cell_type": "code",
   "execution_count": 14,
   "metadata": {},
   "outputs": [
    {
     "name": "stderr",
     "output_type": "stream",
     "text": [
      "c:\\users\\enrmeao\\pycharmprojects\\coursing\\venv\\lib\\site-packages\\ipykernel\\ipkernel.py:287: DeprecationWarning:\n",
      "\n",
      "`should_run_async` will not call `transform_cell` automatically in the future. Please pass the result to `transformed_cell` argument and any exception that happen during thetransform in `preprocessing_exc_tuple` in IPython 7.17 and above.\n",
      "\n"
     ]
    },
    {
     "data": {
      "text/plain": [
       "13"
      ]
     },
     "execution_count": 14,
     "metadata": {},
     "output_type": "execute_result"
    }
   ],
   "source": [
    "clusterer.labels_.max()"
   ]
  },
  {
   "cell_type": "code",
   "execution_count": null,
   "metadata": {},
   "outputs": [],
   "source": []
  }
 ],
 "metadata": {
  "kernelspec": {
   "display_name": "coursingml",
   "language": "python",
   "name": "python3"
  },
  "language_info": {
   "codemirror_mode": {
    "name": "ipython",
    "version": 3
   },
   "file_extension": ".py",
   "mimetype": "text/x-python",
   "name": "python",
   "nbconvert_exporter": "python",
   "pygments_lexer": "ipython3",
   "version": "3.7.8"
  }
 },
 "nbformat": 4,
 "nbformat_minor": 4
}
