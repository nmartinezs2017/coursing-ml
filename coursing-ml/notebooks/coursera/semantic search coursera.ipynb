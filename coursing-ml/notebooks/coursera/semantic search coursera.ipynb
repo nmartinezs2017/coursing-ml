{
 "cells": [
  {
   "cell_type": "code",
   "execution_count": 2,
   "metadata": {},
   "outputs": [],
   "source": [
    "import pandas as pd\n",
    "import numpy as np\n",
    "import pickle\n",
    "import dtale"
   ]
  },
  {
   "cell_type": "code",
   "execution_count": 5,
   "metadata": {},
   "outputs": [
    {
     "data": {
      "text/html": [
       "<div>\n",
       "<style scoped>\n",
       "    .dataframe tbody tr th:only-of-type {\n",
       "        vertical-align: middle;\n",
       "    }\n",
       "\n",
       "    .dataframe tbody tr th {\n",
       "        vertical-align: top;\n",
       "    }\n",
       "\n",
       "    .dataframe thead th {\n",
       "        text-align: right;\n",
       "    }\n",
       "</style>\n",
       "<table border=\"1\" class=\"dataframe\">\n",
       "  <thead>\n",
       "    <tr style=\"text-align: right;\">\n",
       "      <th></th>\n",
       "      <th>description</th>\n",
       "      <th>title</th>\n",
       "    </tr>\n",
       "  </thead>\n",
       "  <tbody>\n",
       "    <tr>\n",
       "      <th>0</th>\n",
       "      <td>Obtén las , para un puesto de analista de dato...</td>\n",
       "      <td>Analista de Datos de IBM Professional Certificate</td>\n",
       "    </tr>\n",
       "    <tr>\n",
       "      <th>1</th>\n",
       "      <td>In this 5-course certificate program, you’ll p...</td>\n",
       "      <td>Google IT Support Professional Certificate</td>\n",
       "    </tr>\n",
       "    <tr>\n",
       "      <th>2</th>\n",
       "      <td>This new beginner-level, six-course certificat...</td>\n",
       "      <td>Google IT Automation with Python Professional ...</td>\n",
       "    </tr>\n",
       "    <tr>\n",
       "      <th>3</th>\n",
       "      <td>Эта специализация посвящена изучению правовых ...</td>\n",
       "      <td>Правовые основы и базы данных в ядерной отрасл...</td>\n",
       "    </tr>\n",
       "    <tr>\n",
       "      <th>4</th>\n",
       "      <td>Программа состоит из четырех курсов, каждый из...</td>\n",
       "      <td>Программирование на Python Specialization</td>\n",
       "    </tr>\n",
       "    <tr>\n",
       "      <th>...</th>\n",
       "      <td>...</td>\n",
       "      <td>...</td>\n",
       "    </tr>\n",
       "    <tr>\n",
       "      <th>6527</th>\n",
       "      <td>唐詩不僅是詩歌史上一座巍峨的高峰，亦是人類文明的珍貴獻禮。本課程的目的並非對詩人、詩歌作一般...</td>\n",
       "      <td>唐詩新思路 (Tang Poetry)</td>\n",
       "    </tr>\n",
       "    <tr>\n",
       "      <th>6528</th>\n",
       "      <td>في هذه الدورة التدريبية القائمة على المشروع وا...</td>\n",
       "      <td>من خلال التطبيق العملي GitHub و Git تعلّم أساسيات</td>\n",
       "    </tr>\n",
       "    <tr>\n",
       "      <th>6529</th>\n",
       "      <td>Maybe you are new to SQL and you want to learn...</td>\n",
       "      <td>Modern Big Data Analysis with SQL Specialization</td>\n",
       "    </tr>\n",
       "    <tr>\n",
       "      <th>6530</th>\n",
       "      <td>Курс ориентирован на самую широкую аудиторию с...</td>\n",
       "      <td>Юридическое оформление инвестиционных идей</td>\n",
       "    </tr>\n",
       "    <tr>\n",
       "      <th>6531</th>\n",
       "      <td>بنهاية هذا المشروع ، سوف تقوم بإنشاء شبكة محاك...</td>\n",
       "      <td>بناء شبكة كمبيوتر افتراضية من الصفر</td>\n",
       "    </tr>\n",
       "  </tbody>\n",
       "</table>\n",
       "<p>6532 rows × 2 columns</p>\n",
       "</div>"
      ],
      "text/plain": [
       "                                            description  \\\n",
       "0     Obtén las , para un puesto de analista de dato...   \n",
       "1     In this 5-course certificate program, you’ll p...   \n",
       "2     This new beginner-level, six-course certificat...   \n",
       "3     Эта специализация посвящена изучению правовых ...   \n",
       "4     Программа состоит из четырех курсов, каждый из...   \n",
       "...                                                 ...   \n",
       "6527  唐詩不僅是詩歌史上一座巍峨的高峰，亦是人類文明的珍貴獻禮。本課程的目的並非對詩人、詩歌作一般...   \n",
       "6528  في هذه الدورة التدريبية القائمة على المشروع وا...   \n",
       "6529  Maybe you are new to SQL and you want to learn...   \n",
       "6530  Курс ориентирован на самую широкую аудиторию с...   \n",
       "6531  بنهاية هذا المشروع ، سوف تقوم بإنشاء شبكة محاك...   \n",
       "\n",
       "                                                  title  \n",
       "0     Analista de Datos de IBM Professional Certificate  \n",
       "1            Google IT Support Professional Certificate  \n",
       "2     Google IT Automation with Python Professional ...  \n",
       "3     Правовые основы и базы данных в ядерной отрасл...  \n",
       "4             Программирование на Python Specialization  \n",
       "...                                                 ...  \n",
       "6527                                唐詩新思路 (Tang Poetry)  \n",
       "6528  من خلال التطبيق العملي GitHub و Git تعلّم أساسيات  \n",
       "6529   Modern Big Data Analysis with SQL Specialization  \n",
       "6530         Юридическое оформление инвестиционных идей  \n",
       "6531                بناء شبكة كمبيوتر افتراضية من الصفر  \n",
       "\n",
       "[6532 rows x 2 columns]"
      ]
     },
     "execution_count": 5,
     "metadata": {},
     "output_type": "execute_result"
    }
   ],
   "source": [
    "df = pd.read_csv('coursera_text.csv')\n",
    "del df['Unnamed: 0']\n",
    "df['description'] = df.description.replace(np.nan, '', regex=True)\n",
    "df['title'] = df.title.replace(np.nan, '', regex=True)\n",
    "df"
   ]
  },
  {
   "cell_type": "code",
   "execution_count": 2,
   "metadata": {},
   "outputs": [
    {
     "name": "stdout",
     "output_type": "stream",
     "text": [
      "2021-03-11 17:35:52,953 - root - INFO - Load pretrained SentenceTransformer: distiluse-base-multilingual-cased-v2\n",
      "2021-03-11 17:35:52,955 - root - INFO - Did not find folder distiluse-base-multilingual-cased-v2\n",
      "2021-03-11 17:35:52,957 - root - INFO - Try to download model from server: https://sbert.net/models/distiluse-base-multilingual-cased-v2.zip\n",
      "2021-03-11 17:35:52,958 - root - INFO - Downloading sentence transformer model from https://sbert.net/models/distiluse-base-multilingual-cased-v2.zip and saving it at C:\\Users\\enrmeao/.cache\\torch\\sentence_transformers\\sbert.net_models_distiluse-base-multilingual-cased-v2\n"
     ]
    },
    {
     "name": "stderr",
     "output_type": "stream",
     "text": [
      "c:\\users\\enrmeao\\pycharmprojects\\coursing\\venv\\lib\\site-packages\\ipykernel\\ipkernel.py:287: DeprecationWarning:\n",
      "\n",
      "`should_run_async` will not call `transform_cell` automatically in the future. Please pass the result to `transformed_cell` argument and any exception that happen during thetransform in `preprocessing_exc_tuple` in IPython 7.17 and above.\n",
      "\n",
      "100%|███████████████████████████████████████████████████| 504M/504M [02:52<00:00, 2.91MB/s]\n"
     ]
    },
    {
     "name": "stdout",
     "output_type": "stream",
     "text": [
      "2021-03-11 17:38:59,529 - root - INFO - Load SentenceTransformer from folder: C:\\Users\\enrmeao/.cache\\torch\\sentence_transformers\\sbert.net_models_distiluse-base-multilingual-cased-v2\n",
      "2021-03-11 17:39:05,350 - root - INFO - Use pytorch device: cpu\n"
     ]
    }
   ],
   "source": [
    "\"\"\"\n",
    "This example demonstrates how we can perform semantic search for scientific publications.\n",
    "As model, we use SPECTER (https://github.com/allenai/specter), which encodes paper titles and abstracts \n",
    "into a vector space.\n",
    "When can then use util.semantic_search() to find the most similar papers.\n",
    "Colab example: https://colab.research.google.com/drive/12hfBveGHRsxhPIUMmJYrll2lFU4fOX06\n",
    "\"\"\"\n",
    "import json\n",
    "import os\n",
    "from sentence_transformers import SentenceTransformer, util\n",
    "\n",
    "#We then load the allenai-specter model with SentenceTransformers\n",
    "model = SentenceTransformer('distiluse-base-multilingual-cased-v2')\n"
   ]
  },
  {
   "cell_type": "code",
   "execution_count": 6,
   "metadata": {},
   "outputs": [
    {
     "name": "stderr",
     "output_type": "stream",
     "text": [
      "c:\\users\\enrmeao\\pycharmprojects\\coursing\\venv\\lib\\site-packages\\ipykernel\\ipkernel.py:287: DeprecationWarning:\n",
      "\n",
      "`should_run_async` will not call `transform_cell` automatically in the future. Please pass the result to `transformed_cell` argument and any exception that happen during thetransform in `preprocessing_exc_tuple` in IPython 7.17 and above.\n",
      "\n"
     ]
    },
    {
     "data": {
      "text/plain": [
       "'Правовые основы и базы данных в ядерной отрасли Specialization. Эта специализация посвящена изучению правовых основ и баз данных ядерной отрасли, освоению технологии поиска информации о физических характеристиках радиоактивных распадов и различных ядерных реакций. В ходе изучения будут рассмотрены основные и фундаментальные области и проблемы, которые необходимо решить при анализе и разработке правовых норм для такой очень сложной технологии, как ядерная энергетика. Также Вы разберетесь в передовых концепциях ядерного права, узнаете, почему управление знаниями так важно для обеспечения безопасной и эффективной работы ядерной энергетики, познакомитесь с режимом ядерного нераспространения и многим другим.'"
      ]
     },
     "execution_count": 6,
     "metadata": {},
     "output_type": "execute_result"
    }
   ],
   "source": [
    "result = [x + '. ' + y for x, y in zip(df['title'], df['description'])]\n",
    "\n",
    "result[3]"
   ]
  },
  {
   "cell_type": "code",
   "execution_count": 10,
   "metadata": {},
   "outputs": [
    {
     "data": {
      "text/plain": [
       "torch.Size([6532, 512])"
      ]
     },
     "execution_count": 10,
     "metadata": {},
     "output_type": "execute_result"
    }
   ],
   "source": [
    "corpus_embeddings.shape"
   ]
  },
  {
   "cell_type": "code",
   "execution_count": 8,
   "metadata": {},
   "outputs": [
    {
     "name": "stderr",
     "output_type": "stream",
     "text": [
      "c:\\users\\enrmeao\\pycharmprojects\\coursing\\venv\\lib\\site-packages\\ipykernel\\ipkernel.py:287: DeprecationWarning:\n",
      "\n",
      "`should_run_async` will not call `transform_cell` automatically in the future. Please pass the result to `transformed_cell` argument and any exception that happen during thetransform in `preprocessing_exc_tuple` in IPython 7.17 and above.\n",
      "\n"
     ]
    },
    {
     "data": {
      "application/vnd.jupyter.widget-view+json": {
       "model_id": "06ef3540e4f24b679470f95346aec292",
       "version_major": 2,
       "version_minor": 0
      },
      "text/plain": [
       "Batches:   0%|          | 0/205 [00:00<?, ?it/s]"
      ]
     },
     "metadata": {},
     "output_type": "display_data"
    },
    {
     "name": "stderr",
     "output_type": "stream",
     "text": [
      "Token indices sequence length is longer than the specified maximum sequence length for this model (532 > 512). Running this sequence through the model will result in indexing errors\n"
     ]
    },
    {
     "data": {
      "text/plain": [
       "tensor([[ 0.0855, -0.0338,  0.0194,  ..., -0.0060, -0.0595,  0.0409],\n",
       "        [ 0.1141, -0.0225,  0.0523,  ..., -0.0572,  0.0043,  0.0229],\n",
       "        [ 0.0928,  0.0028,  0.0607,  ..., -0.0761,  0.0047,  0.0061],\n",
       "        ...,\n",
       "        [ 0.0061, -0.0590,  0.0200,  ...,  0.0470,  0.0336,  0.0259],\n",
       "        [ 0.0838, -0.0571,  0.0189,  ..., -0.0552,  0.0423,  0.0298],\n",
       "        [-0.0172, -0.0580,  0.0128,  ..., -0.0092,  0.0456, -0.0039]])"
      ]
     },
     "execution_count": 8,
     "metadata": {},
     "output_type": "execute_result"
    }
   ],
   "source": [
    "\n",
    "#Compute embeddings for all papers\n",
    "corpus_embeddings = model.encode(result, convert_to_tensor=True)\n",
    "\n",
    "corpus_embeddings"
   ]
  },
  {
   "cell_type": "code",
   "execution_count": 13,
   "metadata": {},
   "outputs": [],
   "source": [
    "import pickle\n",
    "\n",
    "#Store sentences & embeddings on disc\n",
    "with open('embeddings.pkl', \"wb\") as fOut:\n",
    "    pickle.dump({'sentences': result, 'embeddings': corpus_embeddings}, fOut, protocol=pickle.HIGHEST_PROTOCOL)\n"
   ]
  },
  {
   "cell_type": "code",
   "execution_count": 9,
   "metadata": {},
   "outputs": [
    {
     "data": {
      "text/plain": [
       "6538"
      ]
     },
     "execution_count": 9,
     "metadata": {},
     "output_type": "execute_result"
    }
   ],
   "source": [
    "len(pick)"
   ]
  },
  {
   "cell_type": "code",
   "execution_count": 10,
   "metadata": {},
   "outputs": [
    {
     "name": "stdout",
     "output_type": "stream",
     "text": [
      "2021-04-21 22:24:56,684 - kedro.io.data_catalog - INFO - Loading data from `corpus_embeddings_coursera` (PickleDataSet)...\n"
     ]
    }
   ],
   "source": [
    "import pickle\n",
    "\n",
    "pick = catalog.load(\"corpus_embeddings_coursera\")"
   ]
  },
  {
   "cell_type": "code",
   "execution_count": 6,
   "metadata": {},
   "outputs": [],
   "source": [
    "#Load sentences & embeddings from disc\n",
    "with open('embeddings.pkl', \"rb\") as fIn:\n",
    "    stored_data = pickle.load(fIn)\n",
    "    stored_sentences = stored_data['sentences']\n",
    "    stored_embeddings = stored_data['embeddings']"
   ]
  },
  {
   "cell_type": "code",
   "execution_count": 7,
   "metadata": {},
   "outputs": [
    {
     "data": {
      "text/plain": [
       "6532"
      ]
     },
     "execution_count": 7,
     "metadata": {},
     "output_type": "execute_result"
    }
   ],
   "source": [
    "len(stored_embeddings)"
   ]
  },
  {
   "cell_type": "code",
   "execution_count": 22,
   "metadata": {},
   "outputs": [],
   "source": [
    "def search_papers(title, description):\n",
    "    query_embedding = model.encode(title+' '+description, convert_to_tensor=True)\n",
    "\n",
    "    search_hits = util.semantic_search(query_embedding, corpus_embeddings)\n",
    "    search_hits = search_hits[0]  #Get the hits for the first query\n",
    "\n",
    "    print(\"\\n\\nPaper:\", title)\n",
    "    print(\"Most similar papers:\")\n",
    "    for hit in search_hits:\n",
    "        print(hit)\n",
    "        print(\"xx\")\n",
    "        print(hit['corpus_id'])\n",
    "        related_paper = result[hit['corpus_id']]\n",
    "        print(\"{:.2f}\\t{}\".format(hit['score'], related_paper))\n"
   ]
  },
  {
   "cell_type": "code",
   "execution_count": 23,
   "metadata": {},
   "outputs": [
    {
     "data": {
      "application/vnd.jupyter.widget-view+json": {
       "model_id": "ac9fb68993a84818bf6698a8e07eeb1b",
       "version_major": 2,
       "version_minor": 0
      },
      "text/plain": [
       "Batches:   0%|          | 0/1 [00:00<?, ?it/s]"
      ]
     },
     "metadata": {},
     "output_type": "display_data"
    },
    {
     "name": "stdout",
     "output_type": "stream",
     "text": [
      "\n",
      "\n",
      "Paper: Intro to Programming\n",
      "Most similar papers:\n",
      "{'corpus_id': 3101, 'score': 0.76513976}\n",
      "xx\n",
      "3101\n",
      "0.77\tPython Data Representations. This course will continue the introduction to Python programming that started with Python Programming Essentials.  We'll learn about different data representations, including strings, lists, and tuples, that form the core of all Python programs.  We will also teach you how to access files, which will allow you to store and retrieve data within your programs. These concepts and skills will help you to manipulate data and write more complex Python programs.By the end of the course, you will be able to write Python programs that can manipulate data stored in files.  This will extend your Python programming expertise, enabling you to write a wide range of scripts using Python  This course uses Python 3.  While most Python programs continue to use Python 2, Python 3 is the future of the Python programming language. This course introduces basic desktop Python development environments, allowing you to run Python programs directly on your computer. This choice enables a smooth transition from online development environments.\n",
      "{'corpus_id': 2918, 'score': 0.7596314}\n",
      "xx\n",
      "2918\n",
      "0.76\tPython Programming Essentials. This course will introduce you to the wonderful world of Python programming!  We'll learn about the essential elements of programming and how to construct basic Python programs. We will cover expressions, variables, functions, logic, and conditionals, which are foundational concepts in computer programming. We will also teach you how to use Python modules, which enable you to benefit from the vast array of functionality that is already a part of the Python language. These concepts and skills will help you to begin to think like a computer programmer and to understand how to go about writing Python programs.By the end of the course, you will be able to write short Python programs that are able to accomplish real, practical tasks. This course is the foundation for building expertise in Python programming. As the first course in a specialization, it provides the necessary building blocks for you to succeed at learning to write more complex Python programs.  This course uses Python 3.  While many Python programs continue to use Python 2, Python 3 is the future of the Python programming language. This first course will use a Python 3 version of the CodeSkulptor development environment, which is specifically designed to help beginning programmers learn quickly.  CodeSkulptor runs within any modern web browser and does not require you to install any software, allowing you to start writing and running small programs immediately.  In the later courses in this specialization,  we will help you to move to more sophisticated desktop development environments.\n",
      "{'corpus_id': 3957, 'score': 0.75279677}\n",
      "xx\n",
      "3957\n",
      "0.75\tInitiation Pratique à Python. Dans ce projet guidé d’initiation à Python, vous découvrirez Python le langage de programmation interprété, multi-paradigme et multiplateformes.   Python est extrêmement populaire notamment pour la Data Science, Le Machine Learning, et le Big Data, sans compter le développement Web avec ses frameworks très célèbres comme Django et Flask  Au travers des exemples pratiques, vous découvrirez Python, vous expérimenterez les fondamentaux de Python, les types de données et variables, les contrôle de flux, les fonctions, la gestion des exceptions et bien d’autres fonctionnalités de Python\n",
      "{'corpus_id': 4289, 'score': 0.7381681}\n",
      "xx\n",
      "4289\n",
      "0.74\tIntroducción a la programación con Python. Este curso te dará ágil acceso a los conceptos básicos de programación utilizando el lenguaje de programación Python en su versión 3.0. Python tiene una sintaxis sencilla y compacta. Esto te permitirá aplicar rápidamente los conceptos aprendidos en los distintos aspectos de tu vida.Una vez que completes este curso, podrás construir pequeños programas que te ayuden en tu trabajo y estarás preparado para tomar cursos de programación más avanzados.   El curso no requiere conocimientos previos de programación y utiliza sólo matemática básica. Cualquier persona con un manejo de informática moderado podrá ser capaz de dominar los materiales que se presentarán.   Utilizaremos como bibliografía el libro “El Tutorial de Python” de Guido Van Rossum, el creador de Python.\n",
      "{'corpus_id': 2583, 'score': 0.73142177}\n",
      "xx\n",
      "2583\n",
      "0.73\tPython para Data Science. Este proyecto es un curso práctico y efectivo para aprender a programar en Python desde cero. Te permitirá adquirir los conocimientos de Python de manera práctica y aplicada. También te permitirá aprender las nociones básicas de un proyecto de Data Science y generar tu primer modelo de inteligencia artificial en Python.\n",
      "{'corpus_id': 5663, 'score': 0.7299668}\n",
      "xx\n",
      "5663\n",
      "0.73\tCreate Your First Python Program. In this 2-hour long project-based course, you will learn the basics of Python programming language, and its basic syntax. Through hands on, practical experience, you will go through concepts like using the Terminal, and a Text Editor as a Python programmer, variables, functions, lists, conditional statements, for and while loops, and getting user input. You will then apply the concepts to create your first command line application to manage a To-Do List.  This course is aimed at learners who are looking to get started with Python programming without any prior programming experience. However, ideally, you're a competent computer user, and are familiar with basic discrete mathematics.  Note: This course works best for learners who are based in the North America region. We’re currently working on providing the same experience in other regions.\n",
      "{'corpus_id': 4242, 'score': 0.7297112}\n",
      "xx\n",
      "4242\n",
      "0.73\tIntroduction to Python Programming. This course provides an introduction to programming and the Python language.  Students are introduced to core programming concepts like data structures, conditionals, loops, variables, and functions.  This course includes an overview of the various tools available for writing and running Python, and gets students coding quickly.  It also provides hands-on coding exercises using commonly used data structures, writing custom functions, and reading and writing to files. This course may be more robust than some other introductory python courses, as it delves deeper into certain essential programming topics.\n",
      "{'corpus_id': 4559, 'score': 0.72465277}\n",
      "xx\n",
      "4559\n",
      "0.72\tEstructuras de datos en Python. Este curso te dará ágil acceso a  las estructuras de datos principales del lenguaje de programación Python en su versión 3.0. Una vez que termines este curso tendrás un conocimiento general de Python, que te permitirá realizar programas que trabajen con muchos datos tomados desde archivos de la computadora. Aquí podrás conocer cómo utilizar las estructuras de datos integradas en Python, como las listas, los diccionarios y las tuplas. Además entenderás cómo trabajar con archivos y el manejo de excepciones.   Como se trata del segundo curso dentro de un programa especializado, se requiere tener conocimientos de los conceptos básicos de programación y saber escribir y ejecutar scripts de Python. Este curso cubrirá las secciones 6-9 del libro de texto “El Tutorial de Python” de Guido Van Rossum, el creador de Python.\n",
      "{'corpus_id': 2560, 'score': 0.7204225}\n",
      "xx\n",
      "2560\n",
      "0.72\tPython 101: Develop Your First Python Program. In this hands-on guided project, we will learn Python programming fundamentals and build our first program in Python. We will learn understand variables assignment, differentiate between various data types in python such as strings, lists, integer and float, learn the difference between for and while loops, develop functions in python, perform math operations, get information from User and Print data on the screen, and develop a simple game in Python.  Note: This course works best for learners who are based in the North America region. We’re currently working on providing the same experience in other regions.\n",
      "{'corpus_id': 2432, 'score': 0.7196492}\n",
      "xx\n",
      "2432\n",
      "0.72\tPython Data Analysis. This course will continue the introduction to Python programming that started with Python Programming Essentials and Python Data Representations.  We'll learn about reading, storing, and processing tabular data, which are common tasks.  We will also teach you about CSV files and Python's support for reading and writing them.  CSV files are a generic, plain text file format that allows you to exchange tabular data between different programs. These concepts and skills will help you to further extend your Python programming knowledge and allow you to process more complex data.By the end of the course, you will be comfortable working with tabular data in Python. This will extend your Python programming expertise, enabling you to write a wider range of scripts using Python.  This course uses Python 3.  While most Python programs continue to use Python 2, Python 3 is the future of the Python programming language. This course uses basic desktop Python development environments, allowing you to run Python programs directly on your computer.\n"
     ]
    }
   ],
   "source": [
    "\n",
    "# This paper was the EMNLP 2019 Best Paper\n",
    "search_papers(title='Intro to Programming',\n",
    "              description='In this course, youll learn the fundamentals of the Python programming language, along with programming best practices. You’ll learn to represent and store data using Python data types and variables, and use conditionals and loops to control the flow of your programs.')\n"
   ]
  },
  {
   "cell_type": "code",
   "execution_count": 26,
   "metadata": {},
   "outputs": [
    {
     "data": {
      "application/vnd.jupyter.widget-view+json": {
       "model_id": "3656c6bd3a8a466781e9d8fe49b29ed3",
       "version_major": 2,
       "version_minor": 0
      },
      "text/plain": [
       "Batches:   0%|          | 0/1 [00:00<?, ?it/s]"
      ]
     },
     "metadata": {},
     "output_type": "display_data"
    },
    {
     "name": "stdout",
     "output_type": "stream",
     "text": [
      "\n",
      "\n",
      "Paper: The Influence of Social Determinants on Health Specialization.\n",
      "Most similar papers:\n",
      "{'corpus_id': 44, 'score': 0.8915614}\n",
      "xx\n",
      "44\n",
      "0.89\tThe Influence of Social Determinants on Health Specialization. Why are some groups healthier than others, and how do these differences emerge and persist over a lifetime? How do social policies on housing, transportation, and employment relate to health and health inequalities? This specialization will examine social, behavioral, economic, political, and structural factors that contribute to health inequalities, and suggest innovative ways to reduce disparities in health to achieve health equity.You will learn,,-Use conceptual models to understand health disparities in the U.S. and internationally.,-Access and use high-quality data sources to present statistics that illustrate the social-environmental-health issues within a community.,-Identify the main sources of these disparities from a population science perspective, and use public health evidence to inform policy efforts to address these disparities.,-Conduct community health needs assessments and identify evidence-based interventions.\n",
      "{'corpus_id': 1821, 'score': 0.8401766}\n",
      "xx\n",
      "1821\n",
      "0.84\tThe Influence of Social Context on Health. Why are some groups healthier than others, and how do these differences emerge and persist over the life course? How do social policies (e.g., housing, transportation, employment) relate to health and health inequalities? Why are there health disparities even in countries that have free universal health care? This course will address conceptual models for understanding health disparities in the US and internationally, how population science identifies the main sources of these disparities, and how public health can inform policy efforts to address these disparities.After taking this course, you will be able to identify ways in which conditions in the healthcare setting and at work, school, and home influence health; identify models for considering how the social context provides both sources of stress and sources of support for health; and explain how social and physical environments, including schools and workplaces, the healthcare system, and neighborhoods, shape health and health inequalities over the life course.\n",
      "{'corpus_id': 264, 'score': 0.6064213}\n",
      "xx\n",
      "264\n",
      "0.61\tBridging healthcare and society. In contemporary societies healthcare is a key social institute that addresses the issues of maintenance and improvement of citizens’ health. While population health is largely produced outside of healthcare settings themselves, the functioning of healthcare, including diagnosis, treatment, and prevention of illness, injury, and other impairments, is essential for people’s wellbeing. Yet, healthcare can be and often is insufficiently accessible, responsive, and efficient for different members of society. How can healthcare provision and society be bridged?Through the exploration of a combination of theoretical and practical perspectives, this online course highlights the necessity of a dialogue and collaboration between healthcare professionals, patients, and the public at large. Course participants will critically explore challenges posed by disjunctures between healthcare and society, analyze both benefits and unintended consequences of bridging the two, and propose ways to accomplish the bridging in practice of healthcare provision.  After completion of this course you will be able to:  1.\tRecognize disjunctures between healthcare provision and society 2.\tBe aware of consequences of disjunctures between healthcare provision and society 3.\tIdentify opportunities for bridging healthcare provision and society, using a biosocial approach to health 4.\tAnalyze cases of disjunctures between healthcare provision and society, and propose opportunities for bridging 5.\tRecognize the historical trends of scientification, professionalization, and medicalization, in the relations between medicine, health care, and society.  This course was developed by a consortium of five universities: Maastricht University, National Research Tomsk State University, National University of \"Kyiv-Mohyla Academy\",  National Pirogov Memorial Medical University, Vinnytsya, and Siberian State Medical University within the framework of BIHSENA project. BIHSENA stands for “Bridging Innovations, Health and Societies: Educational capacity building in the Eastern European Neighbouring Areas”. BIHSENA project has been funded with support from the European Commission. This course reflects the views only of the authors, and the Commission cannot be held responsible for any use which may be made of the information contained therein.\n",
      "{'corpus_id': 257, 'score': 0.5679996}\n",
      "xx\n",
      "257\n",
      "0.57\tSocial Policy for Social Services & Health Practitioners  Specialization. In the U.S., social policy accounts for two-thirds of government spending. Knowing how policies are constructed, what values underlie them, and how they succeed or fail makes everyone more effective at work or in their civic role. This specialization includes an HONORS track in which learners will complete a professional social policy analysis.Teachers, health care workers, police, and social workers interact with policy daily, but all of us should care about the impact and effectiveness of these programs. Health and mental health programs, education, housing and income supports, pensions, criminal justice services, veterans’ programs, child protective services, and immigration services create a support system all Americans will draw upon. They also reveal Americans' ethics and values, indicating how we regard and care for our most vulnerable. This specialization will explore the size, structure, and outcomes of U.S. social policy by,-comparing it with the approaches of other developed nations.,-examining the history of our efforts and probing population effects that shape policy.,-looking deeply into support for families in general, poor families, people with disabilities, and the elderly.,-mapping out existing policies for housing, education, healthcare, immigration and child welfare. ,-addressing issues of power, oppression, and white supremacy.By the end of the course the learner will be at home working in, utilizing, and voting in the U.S. welfare system.\n",
      "{'corpus_id': 3578, 'score': 0.5414933}\n",
      "xx\n",
      "3578\n",
      "0.54\tMeasuring Causal Effects in the Social Sciences. How can we know if the differences in wages between men and women are caused by discrimination or differences in background characteristics? In this PhD-level course we look at causal effects as opposed to spurious relationships. We will discuss how they can be identified in the social sciences using quantitative data, and describe how this can help us understand social mechanisms.\n",
      "{'corpus_id': 2521, 'score': 0.5398048}\n",
      "xx\n",
      "2521\n",
      "0.54\tSaúde Baseada em Evidências. Por que as informações na área da saúde são tão conflitantes? Existe algum lugar em que a informação sobre saúde é confiável? O que devo considerar ao deparar com alguma novidade que parece mágica? Como o sistema de saúde é afetado por essas questões?Essas e outras perguntas nortearam o curso Saúde Baseada em Evidências. Além dessas reflexões, são apontados aspectos sobre o desenvolvimento de pesquisas médicas  que fornecem subsídios para uma interpretação mais apurada dos fatos. Este curso reflete a experiência dos tutores no ensino desses tópicos para diversos públicos e soma-se a outras estratégias desenvolvidas no Brasil na área.\n",
      "{'corpus_id': 4912, 'score': 0.52087}\n",
      "xx\n",
      "4912\n",
      "0.52\tEssentials of Global Health. Essentials of Global Health is a comprehensive introduction to global health. It is meant to introduce you to this topic in well-structured, clear and easy to understand ways. Much of the course will focus on five questions: What do people get sick, disabled and die from; Why do they suffer from these conditions? Which people are most affected? Why should we care about such concerns? What can be done to address key health issues, hopefully at least cost, as fast as possible, and in sustainable ways?  The course will be global in coverage but with a focus on low- and middle-income countries, the health of the poor, and health disparities. Particular attention will be paid throughout the course to health systems issues, the linkages between health and development, and health matters related to global interdependence. The course will cover key concepts and frameworks but be practical in orientation.ESSENTIALS OF GLOBAL HEALTH WAS PRODUCED IN PART DUE TO THE GENEROUS FUNDING OF THE DAVID F. SWENSEN FUND FOR INNOVATION IN TEACHING.  -------------------------------------------------------------------------------------------------------------------------------------------------------  Course Learning Objectives  By the end of the course, learners should be able to:  •\tArticulate key public health concepts related to global health; •\tAnalyze the key issues in global health from a number of perspectives;\t •\tDiscuss with confidence the burden of disease in various regions of the world; how it varies by sex, age, and location; key risk factors for this burden; and how the disease burden can be addressed in cost-effective ways; •\tAssess key health disparities, especially as they relate to the health of low-income and marginalized people in low- and middle-income countries;  •\tOutline the key actors and organizations in global health and the manner in which they cooperate to address critical global health concerns; •\tReview key global health challenges that are likely to arise in the coming decades.   -------------------------------------------------------------------------------------------------------------------------------------------------------  Value Added of the Course  The course seeks to add special value by being comprehensive, by handling each  topic in a consistent framework, and by helping learners gain an understanding of well grounded approaches to assessing global health issues and what can be done to address them.   -------------------------------------------------------------------------------------------------------------------------------------------------------  The Readings and other materials for Essentials of Global Health  For almost every session of Essentials of Global Health, you will see:   - Required readings - Recommended readings - Recommended videos  We have selected a small number of readings for each session that are central to understanding the content of the session. We have put these under “required readings”.  For each required reading, we have also indicated how carefully you should read the material and on what parts of the material you should focus your attention.  In addition, we have selected some additional readings that would be very helpful to your understanding the content of each session.   The first is a textbook, Global Health 101, third edition. This is a comprehensive introductory textbook that closely follows the content of this Essentials of Global Health course. We have indicated for each session what part of the book you should read. Using this textbook can be very valuable to your mastering the content of the course.  The second set of “recommended readings” is some additional readings, mostly from journal articles and reports. For these, too, we have indicated how carefully you should read the material and on what parts of the material you should focus your attention.  Learners should note that to access articles from The Lancet they will have to register with the Lancet, if they do not have online access to a library that has The Lancet. Once they are registered, they will be able to sign into The Lancet and access all of its free articles.  We have also indicated for most sessions one or two videos that relate to the topic of the session. These are meant to help the learner get a better feel for the topic which is being covered. Most learners will find the videos brief, easy and enjoyable to watch, and very enlightening.\n",
      "{'corpus_id': 2760, 'score': 0.5171428}\n",
      "xx\n",
      "2760\n",
      "0.52\tPopulation Health: Governance. How can we organise care in such a way that we optimize experience, quality and costs? What type of governance is needed? And how should healthcare organisations collaborate?These are central questions in this course. In answering them, we depart from a recognition of the impact of three crucial global shifts in health care governance: 1) the change in focus from cure to population health, 2) the increased attention to social determinants of health,  and 3) the stronger involvement of non-governmental healthcare organisations in service delivery networks.   The course is unique in combining the Population Health perspective with theories of healthcare system governance. It takes a ‘multi-level’ perspective: the participant will look at healthcare governance from different angles in  the healthcare system as a whole: from the global and national level, to networks of organisations, to individual care organisations, and finally to the healthcare professional. All these actors should function well to optimize accessible, affordable and high quality of care. To attain these goals, specific managerial network and leadership skills are required.\n",
      "{'corpus_id': 2714, 'score': 0.5159125}\n",
      "xx\n",
      "2714\n",
      "0.52\tPopulation Health: Panel Management Next Level. How can you, as a healthcare professional, identify patients that share the same risk of an adverse event? How do you transform your healthcare practice in such a way that you are not only able to provide proactive care but you are also able to improve the health of populations at risk?In this course you will learn how to apply the panel management approach to tackle these questions in order to change from reactive to proactive care.   You will learn how to empanel (patient)groups that share the same risk and how you can allocate the appropriate intervention to each panel of patients. From there you will dive into ways to transform current workflows for optimal in-reach and out-reach care both at the cultural and behavioral change level. As a final step you will learn how to evaluate both effectiveness and process based on the triple aim. This will give you insight into what can be improved in the next panel management cycle.   This course will help you gain an understanding of the panel management approach and enable you to change from reactive to proactive care.   This course is part of the Leiden University Master Programme Population Health Management. If you wish to find out more about this programme check-out the course Fundamentals of Population Health Management at: https://www.coursera.org/learn/fundamentals-population-health-management\n",
      "{'corpus_id': 2737, 'score': 0.5157577}\n",
      "xx\n",
      "2737\n",
      "0.52\tPopulation Health: Health & Health Behaviour. In this introduction course on Health and Health Behaviour you will learn about the fundamentals of health psychology. What role does our behaviour, our cognitions and emotions, and our environment play in our health status? We’ll start with unraveling health behavior, and quite quickly put this knowledge in the perspective of health care and dealing with illness. We’ll look at what is needed for people to cope with a disease and to keep up their quality of life as good as possible. How people can be optimally supported in their healthcare process, creating a collaboration between care providers and patients. Lastly we will see how all these pieces of a puzzle can be used in creating actual interventions in healthcare and what is essential to disseminate them in healthcare practice.   By following this course you'll get a better understanding of why we behave as we do and how this knowledge can be optimally used to improve health care!\n"
     ]
    }
   ],
   "source": [
    "\n",
    "# This paper was the EMNLP 2019 Best Paper\n",
    "search_papers(title='The Influence of Social Determinants on Health Specialization.',\n",
    "              description='Why are some groups healthier than others, and how do these differences emerge and persist over a lifetime? How do social policies on housing, transportation, and employment relate to health and health inequalities?')\n"
   ]
  },
  {
   "cell_type": "code",
   "execution_count": 25,
   "metadata": {},
   "outputs": [
    {
     "data": {
      "text/plain": [
       "'The Influence of Social Determinants on Health Specialization. Why are some groups healthier than others, and how do these differences emerge and persist over a lifetime? How do social policies on housing, transportation, and employment relate to health and health inequalities? This specialization will examine social, behavioral, economic, political, and structural factors that contribute to health inequalities, and suggest innovative ways to reduce disparities in health to achieve health equity.You will learn,,-Use conceptual models to understand health disparities in the U.S. and internationally.,-Access and use high-quality data sources to present statistics that illustrate the social-environmental-health issues within a community.,-Identify the main sources of these disparities from a population science perspective, and use public health evidence to inform policy efforts to address these disparities.,-Conduct community health needs assessments and identify evidence-based interventions.'"
      ]
     },
     "execution_count": 25,
     "metadata": {},
     "output_type": "execute_result"
    }
   ],
   "source": [
    "result[44]"
   ]
  }
 ],
 "metadata": {
  "kernelspec": {
   "display_name": "coursingml",
   "language": "python",
   "name": "python3"
  },
  "language_info": {
   "codemirror_mode": {
    "name": "ipython",
    "version": 3
   },
   "file_extension": ".py",
   "mimetype": "text/x-python",
   "name": "python",
   "nbconvert_exporter": "python",
   "pygments_lexer": "ipython3",
   "version": "3.7.8"
  }
 },
 "nbformat": 4,
 "nbformat_minor": 4
}
