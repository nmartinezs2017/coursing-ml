{
 "cells": [
  {
   "cell_type": "code",
   "execution_count": 1,
   "metadata": {},
   "outputs": [
    {
     "name": "stderr",
     "output_type": "stream",
     "text": [
      "c:\\users\\enrmeao\\pycharmprojects\\coursing\\venv\\lib\\site-packages\\ipykernel\\ipkernel.py:287: DeprecationWarning: `should_run_async` will not call `transform_cell` automatically in the future. Please pass the result to `transformed_cell` argument and any exception that happen during thetransform in `preprocessing_exc_tuple` in IPython 7.17 and above.\n",
      "  and should_run_async(code)\n"
     ]
    }
   ],
   "source": [
    "import dtale"
   ]
  },
  {
   "cell_type": "code",
   "execution_count": 2,
   "metadata": {},
   "outputs": [
    {
     "name": "stderr",
     "output_type": "stream",
     "text": [
      "c:\\users\\enrmeao\\pycharmprojects\\coursing\\venv\\lib\\site-packages\\ipykernel\\ipkernel.py:287: DeprecationWarning:\n",
      "\n",
      "`should_run_async` will not call `transform_cell` automatically in the future. Please pass the result to `transformed_cell` argument and any exception that happen during thetransform in `preprocessing_exc_tuple` in IPython 7.17 and above.\n",
      "\n"
     ]
    },
    {
     "name": "stdout",
     "output_type": "stream",
     "text": [
      "2021-05-03 19:00:07,883 - root - INFO - ** Kedro project coursing-ml\n",
      "2021-05-03 19:00:07,884 - root - INFO - Defined global variable `context` and `catalog`\n"
     ]
    }
   ],
   "source": [
    "%reload_kedro"
   ]
  },
  {
   "cell_type": "code",
   "execution_count": 3,
   "metadata": {},
   "outputs": [
    {
     "name": "stdout",
     "output_type": "stream",
     "text": [
      "2021-05-03 19:00:07,987 - kedro.io.data_catalog - INFO - Loading data from `clustering_output_coursera` (CSVDataSet)...\n"
     ]
    }
   ],
   "source": [
    "df = catalog.load(\"clustering_output_coursera\")"
   ]
  },
  {
   "cell_type": "code",
   "execution_count": 5,
   "metadata": {},
   "outputs": [
    {
     "name": "stdout",
     "output_type": "stream",
     "text": [
      "http://ES-00003585:40000/dtale/main/1\n",
      "It looks like this data may have already been loaded to D-Tale based on shape and column names. Here is URL of the data that seems to match it:\n",
      "\n",
      "None\n",
      "\n",
      "If you still want to load this data please use the following command:\n",
      "\n",
      "dtale.show(df, ignore_duplicate=True)\n"
     ]
    },
    {
     "name": "stderr",
     "output_type": "stream",
     "text": [
      "c:\\users\\enrmeao\\pycharmprojects\\coursing\\venv\\lib\\site-packages\\ipykernel\\ipkernel.py:287: DeprecationWarning:\n",
      "\n",
      "`should_run_async` will not call `transform_cell` automatically in the future. Please pass the result to `transformed_cell` argument and any exception that happen during thetransform in `preprocessing_exc_tuple` in IPython 7.17 and above.\n",
      "\n"
     ]
    }
   ],
   "source": [
    "d = dtale.show(df)"
   ]
  },
  {
   "cell_type": "code",
   "execution_count": 6,
   "metadata": {},
   "outputs": [],
   "source": [
    "d"
   ]
  },
  {
   "cell_type": "markdown",
   "metadata": {},
   "source": [
    "### Pandas-profiling"
   ]
  },
  {
   "cell_type": "code",
   "execution_count": 6,
   "metadata": {},
   "outputs": [
    {
     "data": {
      "application/vnd.jupyter.widget-view+json": {
       "model_id": "157c5e13352d4e9d9c908d011a2ca49a",
       "version_major": 2,
       "version_minor": 0
      },
      "text/plain": [
       "Summarize dataset:   0%|          | 0/32 [00:00<?, ?it/s]"
      ]
     },
     "metadata": {},
     "output_type": "display_data"
    },
    {
     "data": {
      "application/vnd.jupyter.widget-view+json": {
       "model_id": "7604568a7e0944e1a309d7a9431c6537",
       "version_major": 2,
       "version_minor": 0
      },
      "text/plain": [
       "Generate report structure:   0%|          | 0/1 [00:00<?, ?it/s]"
      ]
     },
     "metadata": {},
     "output_type": "display_data"
    },
    {
     "name": "stderr",
     "output_type": "stream",
     "text": [
      "c:\\users\\enrmeao\\pycharmprojects\\coursing\\venv\\lib\\site-packages\\dtale\\views.py:1673: FutureWarning:\n",
      "\n",
      "The default value of regex will change from True to False in a future version.\n",
      "\n"
     ]
    },
    {
     "data": {
      "application/vnd.jupyter.widget-view+json": {
       "model_id": "49362b56ca814c1292a0370ba77848a2",
       "version_major": 2,
       "version_minor": 0
      },
      "text/plain": [
       "Render HTML:   0%|          | 0/1 [00:00<?, ?it/s]"
      ]
     },
     "metadata": {},
     "output_type": "display_data"
    },
    {
     "data": {
      "application/vnd.jupyter.widget-view+json": {
       "model_id": "d9d06de98a8e41179d0a08e5393a1ed5",
       "version_major": 2,
       "version_minor": 0
      },
      "text/plain": [
       "Export report to file:   0%|          | 0/1 [00:00<?, ?it/s]"
      ]
     },
     "metadata": {},
     "output_type": "display_data"
    }
   ],
   "source": [
    "import pandas as pd\n",
    "from pandas_profiling import ProfileReport\n",
    "\n",
    "#EDA using pandas-profiling\n",
    "profile = ProfileReport(df, explorative=True)\n",
    "\n",
    "#Saving results to a HTML file\n",
    "profile.to_file(\"output.html\")"
   ]
  },
  {
   "cell_type": "code",
   "execution_count": 7,
   "metadata": {},
   "outputs": [
    {
     "name": "stdout",
     "output_type": "stream",
     "text": [
      "2021-05-03 19:28:00,677 - kedro.io.data_catalog - INFO - Loading data from `clustering_model_coursera` (PickleDataSet)...\n"
     ]
    },
    {
     "name": "stderr",
     "output_type": "stream",
     "text": [
      "c:\\users\\enrmeao\\pycharmprojects\\coursing\\venv\\lib\\site-packages\\ipykernel\\ipkernel.py:287: DeprecationWarning:\n",
      "\n",
      "`should_run_async` will not call `transform_cell` automatically in the future. Please pass the result to `transformed_cell` argument and any exception that happen during thetransform in `preprocessing_exc_tuple` in IPython 7.17 and above.\n",
      "\n"
     ]
    }
   ],
   "source": [
    "clustering_model_coursera = context.catalog.load(\"clustering_model_coursera\")"
   ]
  },
  {
   "cell_type": "code",
   "execution_count": 8,
   "metadata": {},
   "outputs": [
    {
     "data": {
      "text/plain": [
       "<hdbscan.plots.CondensedTree at 0x13b0cb9a688>"
      ]
     },
     "execution_count": 8,
     "metadata": {},
     "output_type": "execute_result"
    }
   ],
   "source": [
    "clustering_model_coursera.condensed_tree_"
   ]
  },
  {
   "cell_type": "code",
   "execution_count": 11,
   "metadata": {},
   "outputs": [
    {
     "name": "stderr",
     "output_type": "stream",
     "text": [
      "c:\\users\\enrmeao\\pycharmprojects\\coursing\\venv\\lib\\site-packages\\hdbscan\\plots.py:383: UserWarning:\n",
      "\n",
      "Infinite lambda values encountered in chosen clusters. This might be due to duplicates in the data.\n",
      "\n"
     ]
    },
    {
     "data": {
      "text/plain": [
       "<AxesSubplot:ylabel='$\\\\lambda$ value'>"
      ]
     },
     "execution_count": 11,
     "metadata": {},
     "output_type": "execute_result"
    },
    {
     "data": {
      "image/png": "[encoded data removed]",
      "text/plain": [
       "<Figure size 432x288 with 2 Axes>"
      ]
     },
     "metadata": {
      "needs_background": "light"
     },
     "output_type": "display_data"
    }
   ],
   "source": [
    "clustering_model_coursera.condensed_tree_.plot(select_clusters=True)"
   ]
  },
  {
   "cell_type": "code",
   "execution_count": 12,
   "metadata": {},
   "outputs": [
    {
     "data": {
      "text/plain": [
       "<networkx.classes.digraph.DiGraph at 0x13b12b58cc8>"
      ]
     },
     "execution_count": 12,
     "metadata": {},
     "output_type": "execute_result"
    },
    {
     "name": "stdout",
     "output_type": "stream",
     "text": [
      "Exception occurred while processing request: 'NoneType' object is not iterable\n",
      "Traceback (most recent call last):\n",
      "  File \"c:\\users\\enrmeao\\pycharmprojects\\coursing\\venv\\lib\\site-packages\\dtale\\views.py\", line 85, in _handle_exceptions\n",
      "    return func(*args, **kwargs)\n",
      "  File \"c:\\users\\enrmeao\\pycharmprojects\\coursing\\venv\\lib\\site-packages\\dtale\\views.py\", line 2196, in get_data\n",
      "    curr_dtypes = [c[\"name\"] for c in global_state.get_dtypes(data_id)]\n",
      "TypeError: 'NoneType' object is not iterable\n"
     ]
    },
    {
     "name": "stderr",
     "output_type": "stream",
     "text": [
      "2021-05-03 19:41:21,721 - ERROR    - Exception occurred while processing request: 'NoneType' object is not iterable\n",
      "Traceback (most recent call last):\n",
      "  File \"c:\\users\\enrmeao\\pycharmprojects\\coursing\\venv\\lib\\site-packages\\dtale\\views.py\", line 85, in _handle_exceptions\n",
      "    return func(*args, **kwargs)\n",
      "  File \"c:\\users\\enrmeao\\pycharmprojects\\coursing\\venv\\lib\\site-packages\\dtale\\views.py\", line 2196, in get_data\n",
      "    curr_dtypes = [c[\"name\"] for c in global_state.get_dtypes(data_id)]\n",
      "TypeError: 'NoneType' object is not iterable\n"
     ]
    },
    {
     "name": "stdout",
     "output_type": "stream",
     "text": [
      "Exception occurred while processing request: 'NoneType' object is not iterable\n",
      "Traceback (most recent call last):\n",
      "  File \"c:\\users\\enrmeao\\pycharmprojects\\coursing\\venv\\lib\\site-packages\\dtale\\views.py\", line 85, in _handle_exceptions\n",
      "    return func(*args, **kwargs)\n",
      "  File \"c:\\users\\enrmeao\\pycharmprojects\\coursing\\venv\\lib\\site-packages\\dtale\\views.py\", line 2196, in get_data\n",
      "    curr_dtypes = [c[\"name\"] for c in global_state.get_dtypes(data_id)]\n",
      "TypeError: 'NoneType' object is not iterable\n"
     ]
    },
    {
     "name": "stderr",
     "output_type": "stream",
     "text": [
      "2021-05-03 19:41:21,971 - ERROR    - Exception occurred while processing request: 'NoneType' object is not iterable\n",
      "Traceback (most recent call last):\n",
      "  File \"c:\\users\\enrmeao\\pycharmprojects\\coursing\\venv\\lib\\site-packages\\dtale\\views.py\", line 85, in _handle_exceptions\n",
      "    return func(*args, **kwargs)\n",
      "  File \"c:\\users\\enrmeao\\pycharmprojects\\coursing\\venv\\lib\\site-packages\\dtale\\views.py\", line 2196, in get_data\n",
      "    curr_dtypes = [c[\"name\"] for c in global_state.get_dtypes(data_id)]\n",
      "TypeError: 'NoneType' object is not iterable\n"
     ]
    },
    {
     "name": "stdout",
     "output_type": "stream",
     "text": [
      "Exception occurred while processing request: 'NoneType' object is not iterable\n",
      "Traceback (most recent call last):\n",
      "  File \"c:\\users\\enrmeao\\pycharmprojects\\coursing\\venv\\lib\\site-packages\\dtale\\views.py\", line 85, in _handle_exceptions\n",
      "    return func(*args, **kwargs)\n",
      "  File \"c:\\users\\enrmeao\\pycharmprojects\\coursing\\venv\\lib\\site-packages\\dtale\\views.py\", line 2196, in get_data\n",
      "    curr_dtypes = [c[\"name\"] for c in global_state.get_dtypes(data_id)]\n",
      "TypeError: 'NoneType' object is not iterable\n"
     ]
    },
    {
     "name": "stderr",
     "output_type": "stream",
     "text": [
      "2021-05-03 19:41:22,199 - ERROR    - Exception occurred while processing request: 'NoneType' object is not iterable\n",
      "Traceback (most recent call last):\n",
      "  File \"c:\\users\\enrmeao\\pycharmprojects\\coursing\\venv\\lib\\site-packages\\dtale\\views.py\", line 85, in _handle_exceptions\n",
      "    return func(*args, **kwargs)\n",
      "  File \"c:\\users\\enrmeao\\pycharmprojects\\coursing\\venv\\lib\\site-packages\\dtale\\views.py\", line 2196, in get_data\n",
      "    curr_dtypes = [c[\"name\"] for c in global_state.get_dtypes(data_id)]\n",
      "TypeError: 'NoneType' object is not iterable\n"
     ]
    },
    {
     "name": "stdout",
     "output_type": "stream",
     "text": [
      "Exception occurred while processing request: 'NoneType' object is not iterable\n",
      "Traceback (most recent call last):\n",
      "  File \"c:\\users\\enrmeao\\pycharmprojects\\coursing\\venv\\lib\\site-packages\\dtale\\views.py\", line 85, in _handle_exceptions\n",
      "    return func(*args, **kwargs)\n",
      "  File \"c:\\users\\enrmeao\\pycharmprojects\\coursing\\venv\\lib\\site-packages\\dtale\\views.py\", line 2196, in get_data\n",
      "    curr_dtypes = [c[\"name\"] for c in global_state.get_dtypes(data_id)]\n",
      "TypeError: 'NoneType' object is not iterable\n"
     ]
    },
    {
     "name": "stderr",
     "output_type": "stream",
     "text": [
      "2021-05-03 19:41:22,436 - ERROR    - Exception occurred while processing request: 'NoneType' object is not iterable\n",
      "Traceback (most recent call last):\n",
      "  File \"c:\\users\\enrmeao\\pycharmprojects\\coursing\\venv\\lib\\site-packages\\dtale\\views.py\", line 85, in _handle_exceptions\n",
      "    return func(*args, **kwargs)\n",
      "  File \"c:\\users\\enrmeao\\pycharmprojects\\coursing\\venv\\lib\\site-packages\\dtale\\views.py\", line 2196, in get_data\n",
      "    curr_dtypes = [c[\"name\"] for c in global_state.get_dtypes(data_id)]\n",
      "TypeError: 'NoneType' object is not iterable\n"
     ]
    },
    {
     "name": "stdout",
     "output_type": "stream",
     "text": [
      "Exception occurred while processing request: 'NoneType' object is not iterable\n",
      "Traceback (most recent call last):\n",
      "  File \"c:\\users\\enrmeao\\pycharmprojects\\coursing\\venv\\lib\\site-packages\\dtale\\views.py\", line 85, in _handle_exceptions\n",
      "    return func(*args, **kwargs)\n",
      "  File \"c:\\users\\enrmeao\\pycharmprojects\\coursing\\venv\\lib\\site-packages\\dtale\\views.py\", line 2196, in get_data\n",
      "    curr_dtypes = [c[\"name\"] for c in global_state.get_dtypes(data_id)]\n",
      "TypeError: 'NoneType' object is not iterable\n"
     ]
    },
    {
     "name": "stderr",
     "output_type": "stream",
     "text": [
      "2021-05-03 19:41:22,681 - ERROR    - Exception occurred while processing request: 'NoneType' object is not iterable\n",
      "Traceback (most recent call last):\n",
      "  File \"c:\\users\\enrmeao\\pycharmprojects\\coursing\\venv\\lib\\site-packages\\dtale\\views.py\", line 85, in _handle_exceptions\n",
      "    return func(*args, **kwargs)\n",
      "  File \"c:\\users\\enrmeao\\pycharmprojects\\coursing\\venv\\lib\\site-packages\\dtale\\views.py\", line 2196, in get_data\n",
      "    curr_dtypes = [c[\"name\"] for c in global_state.get_dtypes(data_id)]\n",
      "TypeError: 'NoneType' object is not iterable\n"
     ]
    },
    {
     "name": "stdout",
     "output_type": "stream",
     "text": [
      "Exception occurred while processing request: 'NoneType' object is not iterable\n",
      "Traceback (most recent call last):\n",
      "  File \"c:\\users\\enrmeao\\pycharmprojects\\coursing\\venv\\lib\\site-packages\\dtale\\views.py\", line 85, in _handle_exceptions\n",
      "    return func(*args, **kwargs)\n",
      "  File \"c:\\users\\enrmeao\\pycharmprojects\\coursing\\venv\\lib\\site-packages\\dtale\\views.py\", line 2196, in get_data\n",
      "    curr_dtypes = [c[\"name\"] for c in global_state.get_dtypes(data_id)]\n",
      "TypeError: 'NoneType' object is not iterable\n"
     ]
    },
    {
     "name": "stderr",
     "output_type": "stream",
     "text": [
      "2021-05-03 19:41:24,107 - ERROR    - Exception occurred while processing request: 'NoneType' object is not iterable\n",
      "Traceback (most recent call last):\n",
      "  File \"c:\\users\\enrmeao\\pycharmprojects\\coursing\\venv\\lib\\site-packages\\dtale\\views.py\", line 85, in _handle_exceptions\n",
      "    return func(*args, **kwargs)\n",
      "  File \"c:\\users\\enrmeao\\pycharmprojects\\coursing\\venv\\lib\\site-packages\\dtale\\views.py\", line 2196, in get_data\n",
      "    curr_dtypes = [c[\"name\"] for c in global_state.get_dtypes(data_id)]\n",
      "TypeError: 'NoneType' object is not iterable\n"
     ]
    },
    {
     "name": "stdout",
     "output_type": "stream",
     "text": [
      "Exception occurred while processing request: 'NoneType' object is not iterable\n",
      "Traceback (most recent call last):\n",
      "  File \"c:\\users\\enrmeao\\pycharmprojects\\coursing\\venv\\lib\\site-packages\\dtale\\views.py\", line 85, in _handle_exceptions\n",
      "    return func(*args, **kwargs)\n",
      "  File \"c:\\users\\enrmeao\\pycharmprojects\\coursing\\venv\\lib\\site-packages\\dtale\\views.py\", line 2196, in get_data\n",
      "    curr_dtypes = [c[\"name\"] for c in global_state.get_dtypes(data_id)]\n",
      "TypeError: 'NoneType' object is not iterable\n"
     ]
    },
    {
     "name": "stderr",
     "output_type": "stream",
     "text": [
      "2021-05-03 19:41:24,116 - ERROR    - Exception occurred while processing request: 'NoneType' object is not iterable\n",
      "Traceback (most recent call last):\n",
      "  File \"c:\\users\\enrmeao\\pycharmprojects\\coursing\\venv\\lib\\site-packages\\dtale\\views.py\", line 85, in _handle_exceptions\n",
      "    return func(*args, **kwargs)\n",
      "  File \"c:\\users\\enrmeao\\pycharmprojects\\coursing\\venv\\lib\\site-packages\\dtale\\views.py\", line 2196, in get_data\n",
      "    curr_dtypes = [c[\"name\"] for c in global_state.get_dtypes(data_id)]\n",
      "TypeError: 'NoneType' object is not iterable\n"
     ]
    },
    {
     "name": "stdout",
     "output_type": "stream",
     "text": [
      "Exception occurred while processing request: 'NoneType' object is not iterable\n",
      "Traceback (most recent call last):\n",
      "  File \"c:\\users\\enrmeao\\pycharmprojects\\coursing\\venv\\lib\\site-packages\\dtale\\views.py\", line 85, in _handle_exceptions\n",
      "    return func(*args, **kwargs)\n",
      "  File \"c:\\users\\enrmeao\\pycharmprojects\\coursing\\venv\\lib\\site-packages\\dtale\\views.py\", line 2196, in get_data\n",
      "    curr_dtypes = [c[\"name\"] for c in global_state.get_dtypes(data_id)]\n",
      "TypeError: 'NoneType' object is not iterable\n"
     ]
    },
    {
     "name": "stderr",
     "output_type": "stream",
     "text": [
      "2021-05-03 19:41:24,122 - ERROR    - Exception occurred while processing request: 'NoneType' object is not iterable\n",
      "Traceback (most recent call last):\n",
      "  File \"c:\\users\\enrmeao\\pycharmprojects\\coursing\\venv\\lib\\site-packages\\dtale\\views.py\", line 85, in _handle_exceptions\n",
      "    return func(*args, **kwargs)\n",
      "  File \"c:\\users\\enrmeao\\pycharmprojects\\coursing\\venv\\lib\\site-packages\\dtale\\views.py\", line 2196, in get_data\n",
      "    curr_dtypes = [c[\"name\"] for c in global_state.get_dtypes(data_id)]\n",
      "TypeError: 'NoneType' object is not iterable\n"
     ]
    },
    {
     "name": "stdout",
     "output_type": "stream",
     "text": [
      "Exception occurred while processing request: 'NoneType' object is not iterable\n",
      "Traceback (most recent call last):\n",
      "  File \"c:\\users\\enrmeao\\pycharmprojects\\coursing\\venv\\lib\\site-packages\\dtale\\views.py\", line 85, in _handle_exceptions\n",
      "    return func(*args, **kwargs)\n",
      "  File \"c:\\users\\enrmeao\\pycharmprojects\\coursing\\venv\\lib\\site-packages\\dtale\\views.py\", line 2196, in get_data\n",
      "    curr_dtypes = [c[\"name\"] for c in global_state.get_dtypes(data_id)]\n",
      "TypeError: 'NoneType' object is not iterable\n"
     ]
    },
    {
     "name": "stderr",
     "output_type": "stream",
     "text": [
      "2021-05-03 19:41:24,128 - ERROR    - Exception occurred while processing request: 'NoneType' object is not iterable\n",
      "Traceback (most recent call last):\n",
      "  File \"c:\\users\\enrmeao\\pycharmprojects\\coursing\\venv\\lib\\site-packages\\dtale\\views.py\", line 85, in _handle_exceptions\n",
      "    return func(*args, **kwargs)\n",
      "  File \"c:\\users\\enrmeao\\pycharmprojects\\coursing\\venv\\lib\\site-packages\\dtale\\views.py\", line 2196, in get_data\n",
      "    curr_dtypes = [c[\"name\"] for c in global_state.get_dtypes(data_id)]\n",
      "TypeError: 'NoneType' object is not iterable\n"
     ]
    },
    {
     "name": "stdout",
     "output_type": "stream",
     "text": [
      "Exception occurred while processing request: 'NoneType' object is not iterable\n",
      "Traceback (most recent call last):\n",
      "  File \"c:\\users\\enrmeao\\pycharmprojects\\coursing\\venv\\lib\\site-packages\\dtale\\views.py\", line 85, in _handle_exceptions\n",
      "    return func(*args, **kwargs)\n",
      "  File \"c:\\users\\enrmeao\\pycharmprojects\\coursing\\venv\\lib\\site-packages\\dtale\\views.py\", line 2196, in get_data\n",
      "    curr_dtypes = [c[\"name\"] for c in global_state.get_dtypes(data_id)]\n",
      "TypeError: 'NoneType' object is not iterable\n",
      "Exception occurred while processing request: 'NoneType' object is not iterable\n",
      "Traceback (most recent call last):\n",
      "  File \"c:\\users\\enrmeao\\pycharmprojects\\coursing\\venv\\lib\\site-packages\\dtale\\views.py\", line 85, in _handle_exceptions\n",
      "    return func(*args, **kwargs)\n",
      "  File \"c:\\users\\enrmeao\\pycharmprojects\\coursing\\venv\\lib\\site-packages\\dtale\\views.py\", line 2196, in get_data\n",
      "    curr_dtypes = [c[\"name\"] for c in global_state.get_dtypes(data_id)]\n",
      "TypeError: 'NoneType' object is not iterable\n"
     ]
    },
    {
     "name": "stderr",
     "output_type": "stream",
     "text": [
      "2021-05-03 19:41:24,134 - ERROR    - Exception occurred while processing request: 'NoneType' object is not iterable\n",
      "Traceback (most recent call last):\n",
      "  File \"c:\\users\\enrmeao\\pycharmprojects\\coursing\\venv\\lib\\site-packages\\dtale\\views.py\", line 85, in _handle_exceptions\n",
      "    return func(*args, **kwargs)\n",
      "  File \"c:\\users\\enrmeao\\pycharmprojects\\coursing\\venv\\lib\\site-packages\\dtale\\views.py\", line 2196, in get_data\n",
      "    curr_dtypes = [c[\"name\"] for c in global_state.get_dtypes(data_id)]\n",
      "TypeError: 'NoneType' object is not iterable\n",
      "2021-05-03 19:41:24,136 - ERROR    - Exception occurred while processing request: 'NoneType' object is not iterable\n",
      "Traceback (most recent call last):\n",
      "  File \"c:\\users\\enrmeao\\pycharmprojects\\coursing\\venv\\lib\\site-packages\\dtale\\views.py\", line 85, in _handle_exceptions\n",
      "    return func(*args, **kwargs)\n",
      "  File \"c:\\users\\enrmeao\\pycharmprojects\\coursing\\venv\\lib\\site-packages\\dtale\\views.py\", line 2196, in get_data\n",
      "    curr_dtypes = [c[\"name\"] for c in global_state.get_dtypes(data_id)]\n",
      "TypeError: 'NoneType' object is not iterable\n"
     ]
    },
    {
     "name": "stdout",
     "output_type": "stream",
     "text": [
      "Exception occurred while processing request: 'NoneType' object is not iterable\n",
      "Traceback (most recent call last):\n",
      "  File \"c:\\users\\enrmeao\\pycharmprojects\\coursing\\venv\\lib\\site-packages\\dtale\\views.py\", line 85, in _handle_exceptions\n",
      "    return func(*args, **kwargs)\n",
      "  File \"c:\\users\\enrmeao\\pycharmprojects\\coursing\\venv\\lib\\site-packages\\dtale\\views.py\", line 2196, in get_data\n",
      "    curr_dtypes = [c[\"name\"] for c in global_state.get_dtypes(data_id)]\n",
      "TypeError: 'NoneType' object is not iterable\n"
     ]
    },
    {
     "name": "stderr",
     "output_type": "stream",
     "text": [
      "2021-05-03 19:41:24,143 - ERROR    - Exception occurred while processing request: 'NoneType' object is not iterable\n",
      "Traceback (most recent call last):\n",
      "  File \"c:\\users\\enrmeao\\pycharmprojects\\coursing\\venv\\lib\\site-packages\\dtale\\views.py\", line 85, in _handle_exceptions\n",
      "    return func(*args, **kwargs)\n",
      "  File \"c:\\users\\enrmeao\\pycharmprojects\\coursing\\venv\\lib\\site-packages\\dtale\\views.py\", line 2196, in get_data\n",
      "    curr_dtypes = [c[\"name\"] for c in global_state.get_dtypes(data_id)]\n",
      "TypeError: 'NoneType' object is not iterable\n"
     ]
    },
    {
     "name": "stdout",
     "output_type": "stream",
     "text": [
      "Exception occurred while processing request: 'NoneType' object is not iterable\n",
      "Traceback (most recent call last):\n",
      "  File \"c:\\users\\enrmeao\\pycharmprojects\\coursing\\venv\\lib\\site-packages\\dtale\\views.py\", line 85, in _handle_exceptions\n",
      "    return func(*args, **kwargs)\n",
      "  File \"c:\\users\\enrmeao\\pycharmprojects\\coursing\\venv\\lib\\site-packages\\dtale\\views.py\", line 2196, in get_data\n",
      "    curr_dtypes = [c[\"name\"] for c in global_state.get_dtypes(data_id)]\n",
      "TypeError: 'NoneType' object is not iterable\n"
     ]
    },
    {
     "name": "stderr",
     "output_type": "stream",
     "text": [
      "2021-05-03 19:41:24,147 - ERROR    - Exception occurred while processing request: 'NoneType' object is not iterable\n",
      "Traceback (most recent call last):\n",
      "  File \"c:\\users\\enrmeao\\pycharmprojects\\coursing\\venv\\lib\\site-packages\\dtale\\views.py\", line 85, in _handle_exceptions\n",
      "    return func(*args, **kwargs)\n",
      "  File \"c:\\users\\enrmeao\\pycharmprojects\\coursing\\venv\\lib\\site-packages\\dtale\\views.py\", line 2196, in get_data\n",
      "    curr_dtypes = [c[\"name\"] for c in global_state.get_dtypes(data_id)]\n",
      "TypeError: 'NoneType' object is not iterable\n"
     ]
    },
    {
     "name": "stdout",
     "output_type": "stream",
     "text": [
      "Executing shutdown due to inactivity...\n"
     ]
    },
    {
     "name": "stderr",
     "output_type": "stream",
     "text": [
      "2021-05-03 20:41:24,165 - INFO     - Executing shutdown due to inactivity...\n"
     ]
    },
    {
     "name": "stdout",
     "output_type": "stream",
     "text": [
      "Executing shutdown...\n"
     ]
    },
    {
     "name": "stderr",
     "output_type": "stream",
     "text": [
      "2021-05-03 20:41:36,248 - INFO     - Executing shutdown...\n"
     ]
    }
   ],
   "source": [
    "clustering_model_coursera.condensed_tree_.to_networkx()"
   ]
  }
 ],
 "metadata": {
  "kernelspec": {
   "display_name": "coursingml",
   "language": "python",
   "name": "python3"
  },
  "language_info": {
   "codemirror_mode": {
    "name": "ipython",
    "version": 3
   },
   "file_extension": ".py",
   "mimetype": "text/x-python",
   "name": "python",
   "nbconvert_exporter": "python",
   "pygments_lexer": "ipython3",
   "version": "3.7.8"
  }
 },
 "nbformat": 4,
 "nbformat_minor": 4
}
